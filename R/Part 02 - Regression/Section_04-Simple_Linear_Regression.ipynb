{
 "cells": [
  {
   "cell_type": "markdown",
   "id": "fa38bbc3-c40f-4dbb-9ee6-2b176745a1b6",
   "metadata": {},
   "source": [
    "# Simple Linear Regression"
   ]
  },
  {
   "cell_type": "markdown",
   "id": "38f5ac3e-44ec-43c5-91fe-53641edcfe46",
   "metadata": {},
   "source": [
    "## Loading data"
   ]
  },
  {
   "cell_type": "code",
   "execution_count": 1,
   "id": "e82bac8e-c101-4030-bfff-67b81f68c31d",
   "metadata": {},
   "outputs": [],
   "source": [
    "dataset = read.csv('./Datasets/Salary_Data.csv')"
   ]
  },
  {
   "cell_type": "code",
   "execution_count": 2,
   "id": "6f884e91-65e5-4e8d-a8d2-cf1a81a0ceea",
   "metadata": {},
   "outputs": [
    {
     "data": {
      "text/html": [
       "<table>\n",
       "<thead><tr><th scope=col>YearsExperience</th><th scope=col>Salary</th></tr></thead>\n",
       "<tbody>\n",
       "\t<tr><td> 1.1  </td><td> 39343</td></tr>\n",
       "\t<tr><td> 1.3  </td><td> 46205</td></tr>\n",
       "\t<tr><td> 1.5  </td><td> 37731</td></tr>\n",
       "\t<tr><td> 2.0  </td><td> 43525</td></tr>\n",
       "\t<tr><td> 2.2  </td><td> 39891</td></tr>\n",
       "\t<tr><td> 2.9  </td><td> 56642</td></tr>\n",
       "\t<tr><td> 3.0  </td><td> 60150</td></tr>\n",
       "\t<tr><td> 3.2  </td><td> 54445</td></tr>\n",
       "\t<tr><td> 3.2  </td><td> 64445</td></tr>\n",
       "\t<tr><td> 3.7  </td><td> 57189</td></tr>\n",
       "\t<tr><td> 3.9  </td><td> 63218</td></tr>\n",
       "\t<tr><td> 4.0  </td><td> 55794</td></tr>\n",
       "\t<tr><td> 4.0  </td><td> 56957</td></tr>\n",
       "\t<tr><td> 4.1  </td><td> 57081</td></tr>\n",
       "\t<tr><td> 4.5  </td><td> 61111</td></tr>\n",
       "\t<tr><td> 4.9  </td><td> 67938</td></tr>\n",
       "\t<tr><td> 5.1  </td><td> 66029</td></tr>\n",
       "\t<tr><td> 5.3  </td><td> 83088</td></tr>\n",
       "\t<tr><td> 5.9  </td><td> 81363</td></tr>\n",
       "\t<tr><td> 6.0  </td><td> 93940</td></tr>\n",
       "\t<tr><td> 6.8  </td><td> 91738</td></tr>\n",
       "\t<tr><td> 7.1  </td><td> 98273</td></tr>\n",
       "\t<tr><td> 7.9  </td><td>101302</td></tr>\n",
       "\t<tr><td> 8.2  </td><td>113812</td></tr>\n",
       "\t<tr><td> 8.7  </td><td>109431</td></tr>\n",
       "\t<tr><td> 9.0  </td><td>105582</td></tr>\n",
       "\t<tr><td> 9.5  </td><td>116969</td></tr>\n",
       "\t<tr><td> 9.6  </td><td>112635</td></tr>\n",
       "\t<tr><td>10.3  </td><td>122391</td></tr>\n",
       "\t<tr><td>10.5  </td><td>121872</td></tr>\n",
       "</tbody>\n",
       "</table>\n"
      ],
      "text/latex": [
       "\\begin{tabular}{r|ll}\n",
       " YearsExperience & Salary\\\\\n",
       "\\hline\n",
       "\t  1.1   &  39343\\\\\n",
       "\t  1.3   &  46205\\\\\n",
       "\t  1.5   &  37731\\\\\n",
       "\t  2.0   &  43525\\\\\n",
       "\t  2.2   &  39891\\\\\n",
       "\t  2.9   &  56642\\\\\n",
       "\t  3.0   &  60150\\\\\n",
       "\t  3.2   &  54445\\\\\n",
       "\t  3.2   &  64445\\\\\n",
       "\t  3.7   &  57189\\\\\n",
       "\t  3.9   &  63218\\\\\n",
       "\t  4.0   &  55794\\\\\n",
       "\t  4.0   &  56957\\\\\n",
       "\t  4.1   &  57081\\\\\n",
       "\t  4.5   &  61111\\\\\n",
       "\t  4.9   &  67938\\\\\n",
       "\t  5.1   &  66029\\\\\n",
       "\t  5.3   &  83088\\\\\n",
       "\t  5.9   &  81363\\\\\n",
       "\t  6.0   &  93940\\\\\n",
       "\t  6.8   &  91738\\\\\n",
       "\t  7.1   &  98273\\\\\n",
       "\t  7.9   & 101302\\\\\n",
       "\t  8.2   & 113812\\\\\n",
       "\t  8.7   & 109431\\\\\n",
       "\t  9.0   & 105582\\\\\n",
       "\t  9.5   & 116969\\\\\n",
       "\t  9.6   & 112635\\\\\n",
       "\t 10.3   & 122391\\\\\n",
       "\t 10.5   & 121872\\\\\n",
       "\\end{tabular}\n"
      ],
      "text/markdown": [
       "\n",
       "| YearsExperience | Salary |\n",
       "|---|---|\n",
       "|  1.1   |  39343 |\n",
       "|  1.3   |  46205 |\n",
       "|  1.5   |  37731 |\n",
       "|  2.0   |  43525 |\n",
       "|  2.2   |  39891 |\n",
       "|  2.9   |  56642 |\n",
       "|  3.0   |  60150 |\n",
       "|  3.2   |  54445 |\n",
       "|  3.2   |  64445 |\n",
       "|  3.7   |  57189 |\n",
       "|  3.9   |  63218 |\n",
       "|  4.0   |  55794 |\n",
       "|  4.0   |  56957 |\n",
       "|  4.1   |  57081 |\n",
       "|  4.5   |  61111 |\n",
       "|  4.9   |  67938 |\n",
       "|  5.1   |  66029 |\n",
       "|  5.3   |  83088 |\n",
       "|  5.9   |  81363 |\n",
       "|  6.0   |  93940 |\n",
       "|  6.8   |  91738 |\n",
       "|  7.1   |  98273 |\n",
       "|  7.9   | 101302 |\n",
       "|  8.2   | 113812 |\n",
       "|  8.7   | 109431 |\n",
       "|  9.0   | 105582 |\n",
       "|  9.5   | 116969 |\n",
       "|  9.6   | 112635 |\n",
       "| 10.3   | 122391 |\n",
       "| 10.5   | 121872 |\n",
       "\n"
      ],
      "text/plain": [
       "   YearsExperience Salary\n",
       "1   1.1             39343\n",
       "2   1.3             46205\n",
       "3   1.5             37731\n",
       "4   2.0             43525\n",
       "5   2.2             39891\n",
       "6   2.9             56642\n",
       "7   3.0             60150\n",
       "8   3.2             54445\n",
       "9   3.2             64445\n",
       "10  3.7             57189\n",
       "11  3.9             63218\n",
       "12  4.0             55794\n",
       "13  4.0             56957\n",
       "14  4.1             57081\n",
       "15  4.5             61111\n",
       "16  4.9             67938\n",
       "17  5.1             66029\n",
       "18  5.3             83088\n",
       "19  5.9             81363\n",
       "20  6.0             93940\n",
       "21  6.8             91738\n",
       "22  7.1             98273\n",
       "23  7.9            101302\n",
       "24  8.2            113812\n",
       "25  8.7            109431\n",
       "26  9.0            105582\n",
       "27  9.5            116969\n",
       "28  9.6            112635\n",
       "29 10.3            122391\n",
       "30 10.5            121872"
      ]
     },
     "metadata": {},
     "output_type": "display_data"
    }
   ],
   "source": [
    "dataset"
   ]
  },
  {
   "cell_type": "markdown",
   "id": "03930821-b765-44d4-86ad-6b607cbfe63c",
   "metadata": {},
   "source": [
    "## Splitting data into training and test"
   ]
  },
  {
   "cell_type": "code",
   "execution_count": 3,
   "id": "f5f83f87-127d-4c00-9272-03db9b4d72f1",
   "metadata": {
    "tags": []
   },
   "outputs": [
    {
     "name": "stderr",
     "output_type": "stream",
     "text": [
      "Warning message:\n",
      "\"package 'caTools' was built under R version 3.6.3\""
     ]
    }
   ],
   "source": [
    "# install.packages('caTools')\n",
    "library(caTools)\n",
    "set.seed(123)\n",
    "\n",
    "# Feature Scaling - Supposedly not necessary here.\n",
    "# dataset = scale(dataset)\n",
    "\n",
    "# Splitting the dataset into the Training set and Test set\n",
    "split = sample.split(dataset$Salary, SplitRatio = 2/3)\n",
    "training_set = subset(dataset, split == TRUE)\n",
    "test_set = subset(dataset, split == FALSE)\n",
    "\n",
    "# You could scale after splitting too (?).\n",
    "# training_set = scale(training_set)\n",
    "# test_set = scale(test_set)"
   ]
  },
  {
   "cell_type": "code",
   "execution_count": 4,
   "id": "3291b38f-8090-4ea9-a7c9-ee4fe33ac5c9",
   "metadata": {},
   "outputs": [
    {
     "data": {
      "text/html": [
       "<table>\n",
       "<thead><tr><th></th><th scope=col>YearsExperience</th><th scope=col>Salary</th></tr></thead>\n",
       "<tbody>\n",
       "\t<tr><th scope=row>2</th><td>1.3   </td><td> 46205</td></tr>\n",
       "\t<tr><th scope=row>4</th><td>2.0   </td><td> 43525</td></tr>\n",
       "\t<tr><th scope=row>5</th><td>2.2   </td><td> 39891</td></tr>\n",
       "\t<tr><th scope=row>8</th><td>3.2   </td><td> 54445</td></tr>\n",
       "\t<tr><th scope=row>11</th><td>3.9   </td><td> 63218</td></tr>\n",
       "\t<tr><th scope=row>16</th><td>4.9   </td><td> 67938</td></tr>\n",
       "\t<tr><th scope=row>20</th><td>6.0   </td><td> 93940</td></tr>\n",
       "\t<tr><th scope=row>21</th><td>6.8   </td><td> 91738</td></tr>\n",
       "\t<tr><th scope=row>24</th><td>8.2   </td><td>113812</td></tr>\n",
       "\t<tr><th scope=row>26</th><td>9.0   </td><td>105582</td></tr>\n",
       "</tbody>\n",
       "</table>\n"
      ],
      "text/latex": [
       "\\begin{tabular}{r|ll}\n",
       "  & YearsExperience & Salary\\\\\n",
       "\\hline\n",
       "\t2 & 1.3    &  46205\\\\\n",
       "\t4 & 2.0    &  43525\\\\\n",
       "\t5 & 2.2    &  39891\\\\\n",
       "\t8 & 3.2    &  54445\\\\\n",
       "\t11 & 3.9    &  63218\\\\\n",
       "\t16 & 4.9    &  67938\\\\\n",
       "\t20 & 6.0    &  93940\\\\\n",
       "\t21 & 6.8    &  91738\\\\\n",
       "\t24 & 8.2    & 113812\\\\\n",
       "\t26 & 9.0    & 105582\\\\\n",
       "\\end{tabular}\n"
      ],
      "text/markdown": [
       "\n",
       "| <!--/--> | YearsExperience | Salary |\n",
       "|---|---|---|\n",
       "| 2 | 1.3    |  46205 |\n",
       "| 4 | 2.0    |  43525 |\n",
       "| 5 | 2.2    |  39891 |\n",
       "| 8 | 3.2    |  54445 |\n",
       "| 11 | 3.9    |  63218 |\n",
       "| 16 | 4.9    |  67938 |\n",
       "| 20 | 6.0    |  93940 |\n",
       "| 21 | 6.8    |  91738 |\n",
       "| 24 | 8.2    | 113812 |\n",
       "| 26 | 9.0    | 105582 |\n",
       "\n"
      ],
      "text/plain": [
       "   YearsExperience Salary\n",
       "2  1.3              46205\n",
       "4  2.0              43525\n",
       "5  2.2              39891\n",
       "8  3.2              54445\n",
       "11 3.9              63218\n",
       "16 4.9              67938\n",
       "20 6.0              93940\n",
       "21 6.8              91738\n",
       "24 8.2             113812\n",
       "26 9.0             105582"
      ]
     },
     "metadata": {},
     "output_type": "display_data"
    }
   ],
   "source": [
    "test_set"
   ]
  },
  {
   "cell_type": "markdown",
   "id": "b7342640-3021-4d93-b36b-74f08139b84f",
   "metadata": {},
   "source": [
    "## Fitting Simple Linear Regression to the Training set"
   ]
  },
  {
   "cell_type": "code",
   "execution_count": 5,
   "id": "44a0605a-a73d-4a93-a563-f7eb24a2cf20",
   "metadata": {},
   "outputs": [],
   "source": [
    "regressor = lm(formula = Salary ~ YearsExperience,\n",
    "               data = training_set)"
   ]
  },
  {
   "cell_type": "code",
   "execution_count": 6,
   "id": "ceb2d376-3fdb-4056-a33c-fc4c3bf25e0c",
   "metadata": {},
   "outputs": [
    {
     "data": {
      "text/plain": [
       "\n",
       "Call:\n",
       "lm(formula = Salary ~ YearsExperience, data = training_set)\n",
       "\n",
       "Residuals:\n",
       "    Min      1Q  Median      3Q     Max \n",
       "-7325.1 -3814.4   427.7  3559.7  8884.6 \n",
       "\n",
       "Coefficients:\n",
       "                Estimate Std. Error t value Pr(>|t|)    \n",
       "(Intercept)        25592       2646   9.672 1.49e-08 ***\n",
       "YearsExperience     9365        421  22.245 1.52e-14 ***\n",
       "---\n",
       "Signif. codes:  0 '***' 0.001 '**' 0.01 '*' 0.05 '.' 0.1 ' ' 1\n",
       "\n",
       "Residual standard error: 5391 on 18 degrees of freedom\n",
       "Multiple R-squared:  0.9649,\tAdjusted R-squared:  0.963 \n",
       "F-statistic: 494.8 on 1 and 18 DF,  p-value: 1.524e-14\n"
      ]
     },
     "metadata": {},
     "output_type": "display_data"
    }
   ],
   "source": [
    "summary(regressor)"
   ]
  },
  {
   "cell_type": "markdown",
   "id": "33630790-12d9-48a5-9743-d3b7397ce90c",
   "metadata": {},
   "source": [
    "## Predicting the Test set results"
   ]
  },
  {
   "cell_type": "code",
   "execution_count": 7,
   "id": "b42d6af3-6083-44a7-9fc3-1ffabfa36c38",
   "metadata": {},
   "outputs": [],
   "source": [
    "y_pred = predict(regressor, newdata = test_set)"
   ]
  },
  {
   "cell_type": "code",
   "execution_count": 8,
   "id": "bd6fbe04-70af-4e6b-b03b-fff184f0ba19",
   "metadata": {},
   "outputs": [
    {
     "data": {
      "text/html": [
       "<table>\n",
       "<thead><tr><th></th><th scope=col>YearsExperience</th><th scope=col>Salary</th><th scope=col>Prediction</th></tr></thead>\n",
       "<tbody>\n",
       "\t<tr><th scope=row>2</th><td>1.3      </td><td> 46205   </td><td> 37766.77</td></tr>\n",
       "\t<tr><th scope=row>4</th><td>2.0      </td><td> 43525   </td><td> 44322.33</td></tr>\n",
       "\t<tr><th scope=row>5</th><td>2.2      </td><td> 39891   </td><td> 46195.35</td></tr>\n",
       "\t<tr><th scope=row>8</th><td>3.2      </td><td> 54445   </td><td> 55560.43</td></tr>\n",
       "\t<tr><th scope=row>11</th><td>3.9      </td><td> 63218   </td><td> 62115.99</td></tr>\n",
       "\t<tr><th scope=row>16</th><td>4.9      </td><td> 67938   </td><td> 71481.07</td></tr>\n",
       "\t<tr><th scope=row>20</th><td>6.0      </td><td> 93940   </td><td> 81782.66</td></tr>\n",
       "\t<tr><th scope=row>21</th><td>6.8      </td><td> 91738   </td><td> 89274.72</td></tr>\n",
       "\t<tr><th scope=row>24</th><td>8.2      </td><td>113812   </td><td>102385.84</td></tr>\n",
       "\t<tr><th scope=row>26</th><td>9.0      </td><td>105582   </td><td>109877.90</td></tr>\n",
       "</tbody>\n",
       "</table>\n"
      ],
      "text/latex": [
       "\\begin{tabular}{r|lll}\n",
       "  & YearsExperience & Salary & Prediction\\\\\n",
       "\\hline\n",
       "\t2 & 1.3       &  46205    &  37766.77\\\\\n",
       "\t4 & 2.0       &  43525    &  44322.33\\\\\n",
       "\t5 & 2.2       &  39891    &  46195.35\\\\\n",
       "\t8 & 3.2       &  54445    &  55560.43\\\\\n",
       "\t11 & 3.9       &  63218    &  62115.99\\\\\n",
       "\t16 & 4.9       &  67938    &  71481.07\\\\\n",
       "\t20 & 6.0       &  93940    &  81782.66\\\\\n",
       "\t21 & 6.8       &  91738    &  89274.72\\\\\n",
       "\t24 & 8.2       & 113812    & 102385.84\\\\\n",
       "\t26 & 9.0       & 105582    & 109877.90\\\\\n",
       "\\end{tabular}\n"
      ],
      "text/markdown": [
       "\n",
       "| <!--/--> | YearsExperience | Salary | Prediction |\n",
       "|---|---|---|---|\n",
       "| 2 | 1.3       |  46205    |  37766.77 |\n",
       "| 4 | 2.0       |  43525    |  44322.33 |\n",
       "| 5 | 2.2       |  39891    |  46195.35 |\n",
       "| 8 | 3.2       |  54445    |  55560.43 |\n",
       "| 11 | 3.9       |  63218    |  62115.99 |\n",
       "| 16 | 4.9       |  67938    |  71481.07 |\n",
       "| 20 | 6.0       |  93940    |  81782.66 |\n",
       "| 21 | 6.8       |  91738    |  89274.72 |\n",
       "| 24 | 8.2       | 113812    | 102385.84 |\n",
       "| 26 | 9.0       | 105582    | 109877.90 |\n",
       "\n"
      ],
      "text/plain": [
       "   YearsExperience Salary Prediction\n",
       "2  1.3              46205  37766.77 \n",
       "4  2.0              43525  44322.33 \n",
       "5  2.2              39891  46195.35 \n",
       "8  3.2              54445  55560.43 \n",
       "11 3.9              63218  62115.99 \n",
       "16 4.9              67938  71481.07 \n",
       "20 6.0              93940  81782.66 \n",
       "21 6.8              91738  89274.72 \n",
       "24 8.2             113812 102385.84 \n",
       "26 9.0             105582 109877.90 "
      ]
     },
     "metadata": {},
     "output_type": "display_data"
    }
   ],
   "source": [
    "test_set[\"Prediction\"] = y_pred\n",
    "test_set"
   ]
  },
  {
   "cell_type": "markdown",
   "id": "291303a0-8f86-4c70-a7f9-2c89fcc44e0f",
   "metadata": {},
   "source": [
    "# Visualizing the Training set results"
   ]
  },
  {
   "cell_type": "code",
   "execution_count": 9,
   "id": "57e788a9-5ae6-49cc-b71d-a0ac67762d9f",
   "metadata": {},
   "outputs": [
    {
     "data": {
      "image/png": "[encoded data removed]",
      "text/plain": [
       "plot without title"
      ]
     },
     "metadata": {},
     "output_type": "display_data"
    }
   ],
   "source": [
    "suppressPackageStartupMessages(library(ggplot2))\n",
    "ggplot() +\n",
    "  geom_point(aes(x = training_set$YearsExperience, y = training_set$Salary),\n",
    "             colour = 'red') +\n",
    "  geom_line(aes(x = training_set$YearsExperience, y = predict(regressor, newdata = training_set)),\n",
    "            colour = 'blue') +\n",
    "  ggtitle('Salary vs Experience (Training set)') +\n",
    "  xlab('Years of experience') +\n",
    "  ylab('Salary')"
   ]
  },
  {
   "cell_type": "markdown",
   "id": "9bfdf714-72e2-4ae9-b6a8-10bc5cc07217",
   "metadata": {},
   "source": [
    "# Visualizing the Test set results"
   ]
  },
  {
   "cell_type": "code",
   "execution_count": 10,
   "id": "22b692f5-91d3-4518-a8c8-93641138d8bd",
   "metadata": {},
   "outputs": [
    {
     "data": {
      "image/png": "[encoded data removed]",
      "text/plain": [
       "plot without title"
      ]
     },
     "metadata": {},
     "output_type": "display_data"
    }
   ],
   "source": [
    "library(ggplot2)\n",
    "ggplot() +\n",
    "  geom_point(aes(x = test_set$YearsExperience, y = test_set$Salary),\n",
    "             colour = 'red') +\n",
    "  geom_line(aes(x = training_set$YearsExperience, y = predict(regressor, newdata = training_set)),\n",
    "            colour = 'blue') +\n",
    "  ggtitle('Salary vs Experience (Test set)') +\n",
    "  xlab('Years of experience') +\n",
    "  ylab('Salary')"
   ]
  }
 ],
 "metadata": {
  "kernelspec": {
   "display_name": "R",
   "language": "R",
   "name": "ir"
  },
  "language_info": {
   "codemirror_mode": "r",
   "file_extension": ".r",
   "mimetype": "text/x-r-source",
   "name": "R",
   "pygments_lexer": "r",
   "version": "3.6.1"
  }
 },
 "nbformat": 4,
 "nbformat_minor": 5
}
