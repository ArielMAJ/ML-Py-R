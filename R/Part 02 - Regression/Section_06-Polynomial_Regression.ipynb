{
 "cells": [
  {
   "cell_type": "markdown",
   "id": "e840cb08-299e-4b81-a63d-4f274467a7d7",
   "metadata": {},
   "source": [
    "# Polynomial Regression"
   ]
  },
  {
   "cell_type": "markdown",
   "id": "246284f4-5832-48f6-9caa-0e54812e6f8c",
   "metadata": {},
   "source": [
    "## Importing the dataset"
   ]
  },
  {
   "cell_type": "code",
   "execution_count": 1,
   "id": "f1b970ca-a1e5-4859-a37b-ce58fc6797c7",
   "metadata": {},
   "outputs": [],
   "source": [
    "dataset = read.csv('./Datasets/Position_Salaries.csv')\n",
    "dataset = dataset[2:3]"
   ]
  },
  {
   "cell_type": "code",
   "execution_count": 2,
   "id": "614672c8-5406-4913-8d86-c248fd3cafad",
   "metadata": {},
   "outputs": [
    {
     "data": {
      "text/html": [
       "<table>\n",
       "<thead><tr><th scope=col>Level</th><th scope=col>Salary</th></tr></thead>\n",
       "<tbody>\n",
       "\t<tr><td> 1     </td><td>  45000</td></tr>\n",
       "\t<tr><td> 2     </td><td>  50000</td></tr>\n",
       "\t<tr><td> 3     </td><td>  60000</td></tr>\n",
       "\t<tr><td> 4     </td><td>  80000</td></tr>\n",
       "\t<tr><td> 5     </td><td> 110000</td></tr>\n",
       "\t<tr><td> 6     </td><td> 150000</td></tr>\n",
       "\t<tr><td> 7     </td><td> 200000</td></tr>\n",
       "\t<tr><td> 8     </td><td> 300000</td></tr>\n",
       "\t<tr><td> 9     </td><td> 500000</td></tr>\n",
       "\t<tr><td>10     </td><td>1000000</td></tr>\n",
       "</tbody>\n",
       "</table>\n"
      ],
      "text/latex": [
       "\\begin{tabular}{r|ll}\n",
       " Level & Salary\\\\\n",
       "\\hline\n",
       "\t  1      &   45000\\\\\n",
       "\t  2      &   50000\\\\\n",
       "\t  3      &   60000\\\\\n",
       "\t  4      &   80000\\\\\n",
       "\t  5      &  110000\\\\\n",
       "\t  6      &  150000\\\\\n",
       "\t  7      &  200000\\\\\n",
       "\t  8      &  300000\\\\\n",
       "\t  9      &  500000\\\\\n",
       "\t 10      & 1000000\\\\\n",
       "\\end{tabular}\n"
      ],
      "text/markdown": [
       "\n",
       "| Level | Salary |\n",
       "|---|---|\n",
       "|  1      |   45000 |\n",
       "|  2      |   50000 |\n",
       "|  3      |   60000 |\n",
       "|  4      |   80000 |\n",
       "|  5      |  110000 |\n",
       "|  6      |  150000 |\n",
       "|  7      |  200000 |\n",
       "|  8      |  300000 |\n",
       "|  9      |  500000 |\n",
       "| 10      | 1000000 |\n",
       "\n"
      ],
      "text/plain": [
       "   Level Salary \n",
       "1   1      45000\n",
       "2   2      50000\n",
       "3   3      60000\n",
       "4   4      80000\n",
       "5   5     110000\n",
       "6   6     150000\n",
       "7   7     200000\n",
       "8   8     300000\n",
       "9   9     500000\n",
       "10 10    1000000"
      ]
     },
     "metadata": {},
     "output_type": "display_data"
    }
   ],
   "source": [
    "dataset"
   ]
  },
  {
   "cell_type": "markdown",
   "id": "78e61554-d5ce-469c-9746-fbaa942de726",
   "metadata": {},
   "source": [
    "## Fitting Linear Regression to the dataset"
   ]
  },
  {
   "cell_type": "code",
   "execution_count": 3,
   "id": "4ab85210-6f47-440b-938a-73c1860d179a",
   "metadata": {},
   "outputs": [],
   "source": [
    "lin_reg = lm(formula = Salary ~ .,\n",
    "             data = dataset)"
   ]
  },
  {
   "cell_type": "code",
   "execution_count": 4,
   "id": "c5621488-0b21-4479-8a28-1e8ae79f6130",
   "metadata": {},
   "outputs": [
    {
     "data": {
      "text/plain": [
       "\n",
       "Call:\n",
       "lm(formula = Salary ~ ., data = dataset)\n",
       "\n",
       "Residuals:\n",
       "    Min      1Q  Median      3Q     Max \n",
       "-170818 -129720  -40379   65856  386545 \n",
       "\n",
       "Coefficients:\n",
       "            Estimate Std. Error t value Pr(>|t|)   \n",
       "(Intercept)  -195333     124790  -1.565  0.15615   \n",
       "Level          80879      20112   4.021  0.00383 **\n",
       "---\n",
       "Signif. codes:  0 '***' 0.001 '**' 0.01 '*' 0.05 '.' 0.1 ' ' 1\n",
       "\n",
       "Residual standard error: 182700 on 8 degrees of freedom\n",
       "Multiple R-squared:  0.669,\tAdjusted R-squared:  0.6277 \n",
       "F-statistic: 16.17 on 1 and 8 DF,  p-value: 0.003833\n"
      ]
     },
     "metadata": {},
     "output_type": "display_data"
    }
   ],
   "source": [
    "summary(lin_reg)"
   ]
  },
  {
   "cell_type": "markdown",
   "id": "ab968dbf-8bcd-4dea-bf47-9c09a1847ecd",
   "metadata": {},
   "source": [
    "## Fitting Polynomial Regression to the dataset"
   ]
  },
  {
   "cell_type": "code",
   "execution_count": 5,
   "id": "9fd9c759-93be-4278-9fb4-b9902af9bb12",
   "metadata": {},
   "outputs": [],
   "source": [
    "dataset$Level2 = dataset$Level^2\n",
    "dataset$Level3 = dataset$Level^3\n",
    "dataset$Level4 = dataset$Level^4\n",
    "dataset$Level5 = dataset$Level^5\n",
    "dataset$Level6 = dataset$Level^6\n",
    "poly_reg = lm(formula = Salary ~ .,\n",
    "              data = dataset)"
   ]
  },
  {
   "cell_type": "code",
   "execution_count": 6,
   "id": "a7ef691c-9a05-4525-aa02-b56490c02c76",
   "metadata": {},
   "outputs": [
    {
     "data": {
      "text/plain": [
       "\n",
       "Call:\n",
       "lm(formula = Salary ~ ., data = dataset)\n",
       "\n",
       "Residuals:\n",
       "      1       2       3       4       5       6       7       8       9      10 \n",
       " -190.6   913.2 -1383.4   122.4  1191.1   717.9 -3940.6  4110.7 -1867.7   326.9 \n",
       "\n",
       "Coefficients:\n",
       "              Estimate Std. Error t value Pr(>|t|)  \n",
       "(Intercept)  82166.667  46776.837   1.757   0.1772  \n",
       "Level       -82943.998  87810.183  -0.945   0.4146  \n",
       "Level2       65896.402  57802.944   1.140   0.3371  \n",
       "Level3      -24381.957  17847.332  -1.366   0.2653  \n",
       "Level4        4929.087   2806.401   1.756   0.1773  \n",
       "Level5        -495.433    217.397  -2.279   0.1070  \n",
       "Level6          19.792      6.576   3.010   0.0572 .\n",
       "---\n",
       "Signif. codes:  0 '***' 0.001 '**' 0.01 '*' 0.05 '.' 0.1 ' ' 1\n",
       "\n",
       "Residual standard error: 3686 on 3 degrees of freedom\n",
       "Multiple R-squared:  0.9999,\tAdjusted R-squared:  0.9998 \n",
       "F-statistic:  9896 on 6 and 3 DF,  p-value: 1.571e-06\n"
      ]
     },
     "metadata": {},
     "output_type": "display_data"
    }
   ],
   "source": [
    "summary(poly_reg)"
   ]
  },
  {
   "cell_type": "markdown",
   "id": "3de5ab6c-d246-4d34-8091-d8e0e929bfb3",
   "metadata": {},
   "source": [
    "## Visualising the Linear Regression results"
   ]
  },
  {
   "cell_type": "code",
   "execution_count": 7,
   "id": "2ae3e7e2-42b7-47ea-9f9e-30a563d7698b",
   "metadata": {},
   "outputs": [
    {
     "name": "stderr",
     "output_type": "stream",
     "text": [
      "Registered S3 methods overwritten by 'ggplot2':\n",
      "  method         from \n",
      "  [.quosures     rlang\n",
      "  c.quosures     rlang\n",
      "  print.quosures rlang\n"
     ]
    },
    {
     "data": {
      "image/png": "[encoded data removed]",
      "text/plain": [
       "plot without title"
      ]
     },
     "metadata": {},
     "output_type": "display_data"
    }
   ],
   "source": [
    "# install.packages('ggplot2')\n",
    "library(ggplot2)\n",
    "ggplot() +\n",
    "  geom_point(aes(x = dataset$Level, y = dataset$Salary),\n",
    "             colour = 'red') +\n",
    "  geom_line(aes(x = dataset$Level, y = predict(lin_reg, newdata = dataset)),\n",
    "            colour = 'blue') +\n",
    "  ggtitle('Truth or Bluff (Linear Regression)') +\n",
    "  xlab('Level') +\n",
    "  ylab('Salary')"
   ]
  },
  {
   "cell_type": "markdown",
   "id": "9b33caa5-762e-4708-8da3-969835899de9",
   "metadata": {},
   "source": [
    "## Visualising the Polynomial Regression results"
   ]
  },
  {
   "cell_type": "code",
   "execution_count": 8,
   "id": "6915c2fa-53c5-41f6-a0f2-0c4109459fd9",
   "metadata": {},
   "outputs": [
    {
     "data": {
      "image/png": "[encoded data removed]",
      "text/plain": [
       "plot without title"
      ]
     },
     "metadata": {},
     "output_type": "display_data"
    }
   ],
   "source": [
    "# install.packages('ggplot2')\n",
    "library(ggplot2)\n",
    "ggplot() +\n",
    "  geom_point(aes(x = dataset$Level, y = dataset$Salary),\n",
    "             colour = 'red') +\n",
    "  geom_line(aes(x = dataset$Level, y = predict(poly_reg, newdata = dataset)),\n",
    "            colour = 'blue') +\n",
    "  ggtitle('Truth or Bluff (Polynomial Regression)') +\n",
    "  xlab('Level') +\n",
    "  ylab('Salary')"
   ]
  },
  {
   "cell_type": "markdown",
   "id": "4e2af8e3-ddb2-4064-8388-86a6e13093d3",
   "metadata": {},
   "source": [
    "## Visualising the Regression Model results (for higher resolution and smoother curve)"
   ]
  },
  {
   "cell_type": "code",
   "execution_count": 9,
   "id": "6bc4b567-af79-4f63-b8a7-3051ae5d14cd",
   "metadata": {},
   "outputs": [
    {
     "data": {
      "image/png": "[encoded data removed]",
      "text/plain": [
       "plot without title"
      ]
     },
     "metadata": {},
     "output_type": "display_data"
    }
   ],
   "source": [
    "# install.packages('ggplot2')\n",
    "library(ggplot2)\n",
    "x_grid = seq(min(dataset$Level), max(dataset$Level), 0.1)\n",
    "ggplot() +\n",
    "  geom_point(aes(x = dataset$Level, y = dataset$Salary),\n",
    "             colour = 'red') +\n",
    "  geom_line(aes(x = x_grid, y = predict(poly_reg,\n",
    "                                        newdata = data.frame(Level = x_grid,\n",
    "                                                             Level2 = x_grid^2,\n",
    "                                                             Level3 = x_grid^3,\n",
    "                                                             Level4 = x_grid^4,\n",
    "                                                             Level5 = x_grid^5,\n",
    "                                                             Level6 = x_grid^6))),\n",
    "            colour = 'blue') +\n",
    "  ggtitle('Truth or Bluff (Polynomial Regression)') +\n",
    "  xlab('Level') +\n",
    "  ylab('Salary')"
   ]
  },
  {
   "cell_type": "markdown",
   "id": "303d017e-450c-4826-acbe-635d23c45ec5",
   "metadata": {},
   "source": [
    "## Predicting a new result with Linear Regression"
   ]
  },
  {
   "cell_type": "code",
   "execution_count": 10,
   "id": "ce83b176-baa4-43b8-b3ab-de2f851b78ed",
   "metadata": {},
   "outputs": [
    {
     "data": {
      "text/html": [
       "<strong>1:</strong> 330378.787878788"
      ],
      "text/latex": [
       "\\textbf{1:} 330378.787878788"
      ],
      "text/markdown": [
       "**1:** 330378.787878788"
      ],
      "text/plain": [
       "       1 \n",
       "330378.8 "
      ]
     },
     "metadata": {},
     "output_type": "display_data"
    }
   ],
   "source": [
    "predict(lin_reg, data.frame(Level = 6.5))"
   ]
  },
  {
   "cell_type": "markdown",
   "id": "a91c303b-1542-441d-9d60-85756801b273",
   "metadata": {},
   "source": [
    "## Predicting a new result with Polynomial Regression"
   ]
  },
  {
   "cell_type": "code",
   "execution_count": 11,
   "id": "3ecf2774-60c7-47e6-a8ed-de3ce1ad354d",
   "metadata": {},
   "outputs": [
    {
     "data": {
      "text/html": [
       "<strong>1:</strong> 174192.819306341"
      ],
      "text/latex": [
       "\\textbf{1:} 174192.819306341"
      ],
      "text/markdown": [
       "**1:** 174192.819306341"
      ],
      "text/plain": [
       "       1 \n",
       "174192.8 "
      ]
     },
     "metadata": {},
     "output_type": "display_data"
    }
   ],
   "source": [
    "predict(poly_reg, data.frame(Level = 6.5,\n",
    "                             Level2 = 6.5^2,\n",
    "                             Level3 = 6.5^3,\n",
    "                             Level4 = 6.5^4,\n",
    "                             Level5 = 6.5^5,\n",
    "                             Level6 = 6.5^6))"
   ]
  }
 ],
 "metadata": {
  "kernelspec": {
   "display_name": "R",
   "language": "R",
   "name": "ir"
  },
  "language_info": {
   "codemirror_mode": "r",
   "file_extension": ".r",
   "mimetype": "text/x-r-source",
   "name": "R",
   "pygments_lexer": "r",
   "version": "3.6.1"
  }
 },
 "nbformat": 4,
 "nbformat_minor": 5
}
