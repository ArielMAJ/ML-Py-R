{
 "cells": [
  {
   "cell_type": "markdown",
   "id": "feb49fca-2c4a-4c2e-8305-f4b0e8680cce",
   "metadata": {},
   "source": [
    "# SVR"
   ]
  },
  {
   "cell_type": "markdown",
   "id": "b19d65bc-d459-4959-af9d-95b079a26e2a",
   "metadata": {},
   "source": [
    "# Importing the dataset"
   ]
  },
  {
   "cell_type": "code",
   "execution_count": 1,
   "id": "5d16029b-8207-4565-9c3d-bd41fc0443b3",
   "metadata": {},
   "outputs": [],
   "source": [
    "dataset = read.csv('./Datasets/Position_Salaries.csv')\n",
    "dataset = dataset[2:3]"
   ]
  },
  {
   "cell_type": "markdown",
   "id": "0b103a48-9253-4805-ac71-38fc98b90e09",
   "metadata": {},
   "source": [
    "# Fitting SVR to the dataset"
   ]
  },
  {
   "cell_type": "code",
   "execution_count": 2,
   "id": "1b2dea83-775d-4e7c-af8c-3b33c8abfb93",
   "metadata": {},
   "outputs": [
    {
     "name": "stderr",
     "output_type": "stream",
     "text": [
      "Warning message:\n",
      "\"package 'e1071' was built under R version 3.6.3\""
     ]
    },
    {
     "data": {
      "text/plain": [
       "\n",
       "Call:\n",
       "svm(formula = Salary ~ ., data = dataset, type = \"eps-regression\", \n",
       "    kernel = \"radial\")\n",
       "\n",
       "\n",
       "Parameters:\n",
       "   SVM-Type:  eps-regression \n",
       " SVM-Kernel:  radial \n",
       "       cost:  1 \n",
       "      gamma:  1 \n",
       "    epsilon:  0.1 \n",
       "\n",
       "\n",
       "Number of Support Vectors:  6\n"
      ]
     },
     "metadata": {},
     "output_type": "display_data"
    }
   ],
   "source": [
    "# install.packages('e1071')\n",
    "library(e1071)\n",
    "regressor = svm(formula = Salary ~ .,\n",
    "                data = dataset,\n",
    "                type = 'eps-regression',\n",
    "                kernel = 'radial')\n",
    "regressor"
   ]
  },
  {
   "cell_type": "markdown",
   "id": "04afc390-39e6-43a7-87cc-960ed92fbe23",
   "metadata": {},
   "source": [
    "# Predicting a new result"
   ]
  },
  {
   "cell_type": "code",
   "execution_count": 3,
   "id": "7c7d7134-221e-463e-a9ff-c43df77bd3de",
   "metadata": {},
   "outputs": [
    {
     "data": {
      "text/html": [
       "<strong>1:</strong> 177861.113529654"
      ],
      "text/latex": [
       "\\textbf{1:} 177861.113529654"
      ],
      "text/markdown": [
       "**1:** 177861.113529654"
      ],
      "text/plain": [
       "       1 \n",
       "177861.1 "
      ]
     },
     "metadata": {},
     "output_type": "display_data"
    }
   ],
   "source": [
    "y_pred = predict(regressor, data.frame(Level = 6.5))\n",
    "y_pred"
   ]
  },
  {
   "cell_type": "markdown",
   "id": "80c59eb1-8b72-46e5-bf48-9f9ed9c4b02f",
   "metadata": {},
   "source": [
    "# Visualising the SVR results"
   ]
  },
  {
   "cell_type": "code",
   "execution_count": 4,
   "id": "c7c742ca-84b1-4723-8f04-5ea9ceb979ba",
   "metadata": {},
   "outputs": [
    {
     "name": "stderr",
     "output_type": "stream",
     "text": [
      "Registered S3 methods overwritten by 'ggplot2':\n",
      "  method         from \n",
      "  [.quosures     rlang\n",
      "  c.quosures     rlang\n",
      "  print.quosures rlang\n"
     ]
    },
    {
     "data": {
      "image/png": "[encoded data removed]",
      "text/plain": [
       "plot without title"
      ]
     },
     "metadata": {},
     "output_type": "display_data"
    }
   ],
   "source": [
    "# install.packages('ggplot2')\n",
    "library(ggplot2)\n",
    "ggplot() +\n",
    "  geom_point(aes(x = dataset$Level, y = dataset$Salary),\n",
    "             colour = 'red') +\n",
    "  geom_line(aes(x = dataset$Level, y = predict(regressor, newdata = dataset)),\n",
    "            colour = 'blue') +\n",
    "  ggtitle('Truth or Bluff (SVR)') +\n",
    "  xlab('Level') +\n",
    "  ylab('Salary')"
   ]
  },
  {
   "cell_type": "markdown",
   "id": "d5e77f2e-bdb1-44f8-b3a0-0dfdf14de230",
   "metadata": {},
   "source": [
    "# Visualising the SVR results (for higher resolution and smoother curve)"
   ]
  },
  {
   "cell_type": "code",
   "execution_count": 5,
   "id": "04468d2b-47be-4f90-92a2-bb3f8ac168ec",
   "metadata": {},
   "outputs": [
    {
     "data": {
      "image/png": "[encoded data removed]",
      "text/plain": [
       "plot without title"
      ]
     },
     "metadata": {},
     "output_type": "display_data"
    }
   ],
   "source": [
    "# install.packages('ggplot2')\n",
    "library(ggplot2)\n",
    "x_grid = seq(min(dataset$Level), max(dataset$Level), 0.1)\n",
    "ggplot() +\n",
    "  geom_point(aes(x = dataset$Level, y = dataset$Salary),\n",
    "             colour = 'red') +\n",
    "  geom_line(aes(x = x_grid, y = predict(regressor, newdata = data.frame(Level = x_grid))),\n",
    "            colour = 'blue') +\n",
    "  ggtitle('Truth or Bluff (SVR)') +\n",
    "  xlab('Level') +\n",
    "  ylab('Salary')"
   ]
  }
 ],
 "metadata": {
  "kernelspec": {
   "display_name": "R",
   "language": "R",
   "name": "ir"
  },
  "language_info": {
   "codemirror_mode": "r",
   "file_extension": ".r",
   "mimetype": "text/x-r-source",
   "name": "R",
   "pygments_lexer": "r",
   "version": "3.6.1"
  }
 },
 "nbformat": 4,
 "nbformat_minor": 5
}
