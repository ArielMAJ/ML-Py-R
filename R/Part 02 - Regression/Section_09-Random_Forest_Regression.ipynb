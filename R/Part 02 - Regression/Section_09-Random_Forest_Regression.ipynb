{
 "cells": [
  {
   "cell_type": "markdown",
   "id": "c6de70da-8200-4bbc-8138-9d2700de3f71",
   "metadata": {},
   "source": [
    "# Random Forest Regression"
   ]
  },
  {
   "cell_type": "code",
   "execution_count": 1,
   "id": "ca872f2f-a37d-4e0b-a5c5-6f16650a7b5b",
   "metadata": {},
   "outputs": [],
   "source": [
    "# Importing the dataset\n",
    "dataset = read.csv('./Datasets/Position_Salaries.csv')\n",
    "dataset = dataset[2:3]"
   ]
  },
  {
   "cell_type": "markdown",
   "id": "c8be778c-aad8-47cc-8570-763ce384eabe",
   "metadata": {},
   "source": [
    "# Fitting Random Forest Regression to the dataset"
   ]
  },
  {
   "cell_type": "code",
   "execution_count": 2,
   "id": "1cda5dc1-b4cf-40fd-8f5f-61c1de390096",
   "metadata": {},
   "outputs": [
    {
     "name": "stderr",
     "output_type": "stream",
     "text": [
      "randomForest 4.6-14\n",
      "Type rfNews() to see new features/changes/bug fixes.\n"
     ]
    },
    {
     "data": {
      "text/plain": [
       "\n",
       "Call:\n",
       " randomForest(x = dataset[-2], y = dataset$Salary, ntree = 500) \n",
       "               Type of random forest: regression\n",
       "                     Number of trees: 500\n",
       "No. of variables tried at each split: 1\n",
       "\n",
       "          Mean of squared residuals: 39966206178\n",
       "                    % Var explained: 50.45"
      ]
     },
     "metadata": {},
     "output_type": "display_data"
    }
   ],
   "source": [
    "# install.packages('randomForest')\n",
    "library(randomForest)\n",
    "set.seed(1234)\n",
    "regressor = randomForest(x = dataset[-2],\n",
    "                         y = dataset$Salary,\n",
    "                         ntree = 500)\n",
    "regressor"
   ]
  },
  {
   "cell_type": "markdown",
   "id": "c2a24b03-62a6-4afc-8806-2c7f0f899cb0",
   "metadata": {},
   "source": [
    "# Predicting a new result with Random Forest Regression"
   ]
  },
  {
   "cell_type": "code",
   "execution_count": 3,
   "id": "bc0eebb5-f245-4b75-9112-c1365d702b61",
   "metadata": {},
   "outputs": [
    {
     "data": {
      "text/html": [
       "<strong>1:</strong> 160907.666666667"
      ],
      "text/latex": [
       "\\textbf{1:} 160907.666666667"
      ],
      "text/markdown": [
       "**1:** 160907.666666667"
      ],
      "text/plain": [
       "       1 \n",
       "160907.7 "
      ]
     },
     "metadata": {},
     "output_type": "display_data"
    }
   ],
   "source": [
    "y_pred = predict(regressor, data.frame(Level = 6.5))\n",
    "y_pred"
   ]
  },
  {
   "cell_type": "markdown",
   "id": "ab2b74cf-9ece-4047-b9e9-f399cf40075a",
   "metadata": {},
   "source": [
    "# Visualising the Random Forest Regression results (higher resolution)"
   ]
  },
  {
   "cell_type": "code",
   "execution_count": 4,
   "id": "8cca7532-6773-4e55-82cd-d6297285d66f",
   "metadata": {},
   "outputs": [
    {
     "name": "stderr",
     "output_type": "stream",
     "text": [
      "Registered S3 methods overwritten by 'ggplot2':\n",
      "  method         from \n",
      "  [.quosures     rlang\n",
      "  c.quosures     rlang\n",
      "  print.quosures rlang\n",
      "\n",
      "Attaching package: 'ggplot2'\n",
      "\n",
      "The following object is masked from 'package:randomForest':\n",
      "\n",
      "    margin\n",
      "\n"
     ]
    },
    {
     "data": {
      "image/png": "[encoded data removed]",
      "text/plain": [
       "plot without title"
      ]
     },
     "metadata": {},
     "output_type": "display_data"
    }
   ],
   "source": [
    "# install.packages('ggplot2')\n",
    "library(ggplot2)\n",
    "x_grid = seq(min(dataset$Level), max(dataset$Level), 0.00005)\n",
    "ggplot() +\n",
    "  geom_point(aes(x = dataset$Level, y = dataset$Salary),\n",
    "             colour = 'red') +\n",
    "  geom_line(aes(x = x_grid, y = predict(regressor, newdata = data.frame(Level = x_grid))),\n",
    "            colour = 'blue') +\n",
    "  ggtitle('Truth or Bluff (Random Forest Regression)') +\n",
    "  xlab('Level') +\n",
    "  ylab('Salary')"
   ]
  }
 ],
 "metadata": {
  "kernelspec": {
   "display_name": "R",
   "language": "R",
   "name": "ir"
  },
  "language_info": {
   "codemirror_mode": "r",
   "file_extension": ".r",
   "mimetype": "text/x-r-source",
   "name": "R",
   "pygments_lexer": "r",
   "version": "3.6.1"
  }
 },
 "nbformat": 4,
 "nbformat_minor": 5
}
