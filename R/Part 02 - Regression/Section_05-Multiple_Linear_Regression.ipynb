{
 "cells": [
  {
   "cell_type": "markdown",
   "id": "cd5d28a8-546a-4546-8731-14785eaa48d8",
   "metadata": {},
   "source": [
    "# Multiple Linear Regression"
   ]
  },
  {
   "cell_type": "code",
   "execution_count": 1,
   "id": "235f3f95-508c-45c7-8a0a-ae0cd0df9a72",
   "metadata": {},
   "outputs": [],
   "source": [
    "# Importing the dataset\n",
    "dataset = read.csv('./Datasets/50_Startups.csv')"
   ]
  },
  {
   "cell_type": "code",
   "execution_count": 2,
   "id": "d77cb84f-a2e7-4a8a-9f3e-512178e7aa3c",
   "metadata": {},
   "outputs": [
    {
     "data": {
      "text/html": [
       "<table>\n",
       "<thead><tr><th scope=col>R.D.Spend</th><th scope=col>Administration</th><th scope=col>Marketing.Spend</th><th scope=col>State</th><th scope=col>Profit</th></tr></thead>\n",
       "<tbody>\n",
       "\t<tr><td>165349.20 </td><td>136897.80 </td><td>471784.10 </td><td>New York  </td><td>192261.83 </td></tr>\n",
       "\t<tr><td>162597.70 </td><td>151377.59 </td><td>443898.53 </td><td>California</td><td>191792.06 </td></tr>\n",
       "\t<tr><td>153441.51 </td><td>101145.55 </td><td>407934.54 </td><td>Florida   </td><td>191050.39 </td></tr>\n",
       "\t<tr><td>144372.41 </td><td>118671.85 </td><td>383199.62 </td><td>New York  </td><td>182901.99 </td></tr>\n",
       "\t<tr><td>142107.34 </td><td> 91391.77 </td><td>366168.42 </td><td>Florida   </td><td>166187.94 </td></tr>\n",
       "\t<tr><td>131876.90 </td><td> 99814.71 </td><td>362861.36 </td><td>New York  </td><td>156991.12 </td></tr>\n",
       "\t<tr><td>134615.46 </td><td>147198.87 </td><td>127716.82 </td><td>California</td><td>156122.51 </td></tr>\n",
       "\t<tr><td>130298.13 </td><td>145530.06 </td><td>323876.68 </td><td>Florida   </td><td>155752.60 </td></tr>\n",
       "\t<tr><td>120542.52 </td><td>148718.95 </td><td>311613.29 </td><td>New York  </td><td>152211.77 </td></tr>\n",
       "\t<tr><td>123334.88 </td><td>108679.17 </td><td>304981.62 </td><td>California</td><td>149759.96 </td></tr>\n",
       "\t<tr><td>101913.08 </td><td>110594.11 </td><td>229160.95 </td><td>Florida   </td><td>146121.95 </td></tr>\n",
       "\t<tr><td>100671.96 </td><td> 91790.61 </td><td>249744.55 </td><td>California</td><td>144259.40 </td></tr>\n",
       "\t<tr><td> 93863.75 </td><td>127320.38 </td><td>249839.44 </td><td>Florida   </td><td>141585.52 </td></tr>\n",
       "\t<tr><td> 91992.39 </td><td>135495.07 </td><td>252664.93 </td><td>California</td><td>134307.35 </td></tr>\n",
       "\t<tr><td>119943.24 </td><td>156547.42 </td><td>256512.92 </td><td>Florida   </td><td>132602.65 </td></tr>\n",
       "\t<tr><td>114523.61 </td><td>122616.84 </td><td>261776.23 </td><td>New York  </td><td>129917.04 </td></tr>\n",
       "\t<tr><td> 78013.11 </td><td>121597.55 </td><td>264346.06 </td><td>California</td><td>126992.93 </td></tr>\n",
       "\t<tr><td> 94657.16 </td><td>145077.58 </td><td>282574.31 </td><td>New York  </td><td>125370.37 </td></tr>\n",
       "\t<tr><td> 91749.16 </td><td>114175.79 </td><td>294919.57 </td><td>Florida   </td><td>124266.90 </td></tr>\n",
       "\t<tr><td> 86419.70 </td><td>153514.11 </td><td>     0.00 </td><td>New York  </td><td>122776.86 </td></tr>\n",
       "\t<tr><td> 76253.86 </td><td>113867.30 </td><td>298664.47 </td><td>California</td><td>118474.03 </td></tr>\n",
       "\t<tr><td> 78389.47 </td><td>153773.43 </td><td>299737.29 </td><td>New York  </td><td>111313.02 </td></tr>\n",
       "\t<tr><td> 73994.56 </td><td>122782.75 </td><td>303319.26 </td><td>Florida   </td><td>110352.25 </td></tr>\n",
       "\t<tr><td> 67532.53 </td><td>105751.03 </td><td>304768.73 </td><td>Florida   </td><td>108733.99 </td></tr>\n",
       "\t<tr><td> 77044.01 </td><td> 99281.34 </td><td>140574.81 </td><td>New York  </td><td>108552.04 </td></tr>\n",
       "\t<tr><td> 64664.71 </td><td>139553.16 </td><td>137962.62 </td><td>California</td><td>107404.34 </td></tr>\n",
       "\t<tr><td> 75328.87 </td><td>144135.98 </td><td>134050.07 </td><td>Florida   </td><td>105733.54 </td></tr>\n",
       "\t<tr><td> 72107.60 </td><td>127864.55 </td><td>353183.81 </td><td>New York  </td><td>105008.31 </td></tr>\n",
       "\t<tr><td> 66051.52 </td><td>182645.56 </td><td>118148.20 </td><td>Florida   </td><td>103282.38 </td></tr>\n",
       "\t<tr><td> 65605.48 </td><td>153032.06 </td><td>107138.38 </td><td>New York  </td><td>101004.64 </td></tr>\n",
       "\t<tr><td> 61994.48 </td><td>115641.28 </td><td> 91131.24 </td><td>Florida   </td><td> 99937.59 </td></tr>\n",
       "\t<tr><td> 61136.38 </td><td>152701.92 </td><td> 88218.23 </td><td>New York  </td><td> 97483.56 </td></tr>\n",
       "\t<tr><td> 63408.86 </td><td>129219.61 </td><td> 46085.25 </td><td>California</td><td> 97427.84 </td></tr>\n",
       "\t<tr><td> 55493.95 </td><td>103057.49 </td><td>214634.81 </td><td>Florida   </td><td> 96778.92 </td></tr>\n",
       "\t<tr><td> 46426.07 </td><td>157693.92 </td><td>210797.67 </td><td>California</td><td> 96712.80 </td></tr>\n",
       "\t<tr><td> 46014.02 </td><td> 85047.44 </td><td>205517.64 </td><td>New York  </td><td> 96479.51 </td></tr>\n",
       "\t<tr><td> 28663.76 </td><td>127056.21 </td><td>201126.82 </td><td>Florida   </td><td> 90708.19 </td></tr>\n",
       "\t<tr><td> 44069.95 </td><td> 51283.14 </td><td>197029.42 </td><td>California</td><td> 89949.14 </td></tr>\n",
       "\t<tr><td> 20229.59 </td><td> 65947.93 </td><td>185265.10 </td><td>New York  </td><td> 81229.06 </td></tr>\n",
       "\t<tr><td> 38558.51 </td><td> 82982.09 </td><td>174999.30 </td><td>California</td><td> 81005.76 </td></tr>\n",
       "\t<tr><td> 28754.33 </td><td>118546.05 </td><td>172795.67 </td><td>California</td><td> 78239.91 </td></tr>\n",
       "\t<tr><td> 27892.92 </td><td> 84710.77 </td><td>164470.71 </td><td>Florida   </td><td> 77798.83 </td></tr>\n",
       "\t<tr><td> 23640.93 </td><td> 96189.63 </td><td>148001.11 </td><td>California</td><td> 71498.49 </td></tr>\n",
       "\t<tr><td> 15505.73 </td><td>127382.30 </td><td> 35534.17 </td><td>New York  </td><td> 69758.98 </td></tr>\n",
       "\t<tr><td> 22177.74 </td><td>154806.14 </td><td> 28334.72 </td><td>California</td><td> 65200.33 </td></tr>\n",
       "\t<tr><td>  1000.23 </td><td>124153.04 </td><td>  1903.93 </td><td>New York  </td><td> 64926.08 </td></tr>\n",
       "\t<tr><td>  1315.46 </td><td>115816.21 </td><td>297114.46 </td><td>Florida   </td><td> 49490.75 </td></tr>\n",
       "\t<tr><td>     0.00 </td><td>135426.92 </td><td>     0.00 </td><td>California</td><td> 42559.73 </td></tr>\n",
       "\t<tr><td>   542.05 </td><td> 51743.15 </td><td>     0.00 </td><td>New York  </td><td> 35673.41 </td></tr>\n",
       "\t<tr><td>     0.00 </td><td>116983.80 </td><td> 45173.06 </td><td>California</td><td> 14681.40 </td></tr>\n",
       "</tbody>\n",
       "</table>\n"
      ],
      "text/latex": [
       "\\begin{tabular}{r|lllll}\n",
       " R.D.Spend & Administration & Marketing.Spend & State & Profit\\\\\n",
       "\\hline\n",
       "\t 165349.20  & 136897.80  & 471784.10  & New York   & 192261.83 \\\\\n",
       "\t 162597.70  & 151377.59  & 443898.53  & California & 191792.06 \\\\\n",
       "\t 153441.51  & 101145.55  & 407934.54  & Florida    & 191050.39 \\\\\n",
       "\t 144372.41  & 118671.85  & 383199.62  & New York   & 182901.99 \\\\\n",
       "\t 142107.34  &  91391.77  & 366168.42  & Florida    & 166187.94 \\\\\n",
       "\t 131876.90  &  99814.71  & 362861.36  & New York   & 156991.12 \\\\\n",
       "\t 134615.46  & 147198.87  & 127716.82  & California & 156122.51 \\\\\n",
       "\t 130298.13  & 145530.06  & 323876.68  & Florida    & 155752.60 \\\\\n",
       "\t 120542.52  & 148718.95  & 311613.29  & New York   & 152211.77 \\\\\n",
       "\t 123334.88  & 108679.17  & 304981.62  & California & 149759.96 \\\\\n",
       "\t 101913.08  & 110594.11  & 229160.95  & Florida    & 146121.95 \\\\\n",
       "\t 100671.96  &  91790.61  & 249744.55  & California & 144259.40 \\\\\n",
       "\t  93863.75  & 127320.38  & 249839.44  & Florida    & 141585.52 \\\\\n",
       "\t  91992.39  & 135495.07  & 252664.93  & California & 134307.35 \\\\\n",
       "\t 119943.24  & 156547.42  & 256512.92  & Florida    & 132602.65 \\\\\n",
       "\t 114523.61  & 122616.84  & 261776.23  & New York   & 129917.04 \\\\\n",
       "\t  78013.11  & 121597.55  & 264346.06  & California & 126992.93 \\\\\n",
       "\t  94657.16  & 145077.58  & 282574.31  & New York   & 125370.37 \\\\\n",
       "\t  91749.16  & 114175.79  & 294919.57  & Florida    & 124266.90 \\\\\n",
       "\t  86419.70  & 153514.11  &      0.00  & New York   & 122776.86 \\\\\n",
       "\t  76253.86  & 113867.30  & 298664.47  & California & 118474.03 \\\\\n",
       "\t  78389.47  & 153773.43  & 299737.29  & New York   & 111313.02 \\\\\n",
       "\t  73994.56  & 122782.75  & 303319.26  & Florida    & 110352.25 \\\\\n",
       "\t  67532.53  & 105751.03  & 304768.73  & Florida    & 108733.99 \\\\\n",
       "\t  77044.01  &  99281.34  & 140574.81  & New York   & 108552.04 \\\\\n",
       "\t  64664.71  & 139553.16  & 137962.62  & California & 107404.34 \\\\\n",
       "\t  75328.87  & 144135.98  & 134050.07  & Florida    & 105733.54 \\\\\n",
       "\t  72107.60  & 127864.55  & 353183.81  & New York   & 105008.31 \\\\\n",
       "\t  66051.52  & 182645.56  & 118148.20  & Florida    & 103282.38 \\\\\n",
       "\t  65605.48  & 153032.06  & 107138.38  & New York   & 101004.64 \\\\\n",
       "\t  61994.48  & 115641.28  &  91131.24  & Florida    &  99937.59 \\\\\n",
       "\t  61136.38  & 152701.92  &  88218.23  & New York   &  97483.56 \\\\\n",
       "\t  63408.86  & 129219.61  &  46085.25  & California &  97427.84 \\\\\n",
       "\t  55493.95  & 103057.49  & 214634.81  & Florida    &  96778.92 \\\\\n",
       "\t  46426.07  & 157693.92  & 210797.67  & California &  96712.80 \\\\\n",
       "\t  46014.02  &  85047.44  & 205517.64  & New York   &  96479.51 \\\\\n",
       "\t  28663.76  & 127056.21  & 201126.82  & Florida    &  90708.19 \\\\\n",
       "\t  44069.95  &  51283.14  & 197029.42  & California &  89949.14 \\\\\n",
       "\t  20229.59  &  65947.93  & 185265.10  & New York   &  81229.06 \\\\\n",
       "\t  38558.51  &  82982.09  & 174999.30  & California &  81005.76 \\\\\n",
       "\t  28754.33  & 118546.05  & 172795.67  & California &  78239.91 \\\\\n",
       "\t  27892.92  &  84710.77  & 164470.71  & Florida    &  77798.83 \\\\\n",
       "\t  23640.93  &  96189.63  & 148001.11  & California &  71498.49 \\\\\n",
       "\t  15505.73  & 127382.30  &  35534.17  & New York   &  69758.98 \\\\\n",
       "\t  22177.74  & 154806.14  &  28334.72  & California &  65200.33 \\\\\n",
       "\t   1000.23  & 124153.04  &   1903.93  & New York   &  64926.08 \\\\\n",
       "\t   1315.46  & 115816.21  & 297114.46  & Florida    &  49490.75 \\\\\n",
       "\t      0.00  & 135426.92  &      0.00  & California &  42559.73 \\\\\n",
       "\t    542.05  &  51743.15  &      0.00  & New York   &  35673.41 \\\\\n",
       "\t      0.00  & 116983.80  &  45173.06  & California &  14681.40 \\\\\n",
       "\\end{tabular}\n"
      ],
      "text/markdown": [
       "\n",
       "| R.D.Spend | Administration | Marketing.Spend | State | Profit |\n",
       "|---|---|---|---|---|\n",
       "| 165349.20  | 136897.80  | 471784.10  | New York   | 192261.83  |\n",
       "| 162597.70  | 151377.59  | 443898.53  | California | 191792.06  |\n",
       "| 153441.51  | 101145.55  | 407934.54  | Florida    | 191050.39  |\n",
       "| 144372.41  | 118671.85  | 383199.62  | New York   | 182901.99  |\n",
       "| 142107.34  |  91391.77  | 366168.42  | Florida    | 166187.94  |\n",
       "| 131876.90  |  99814.71  | 362861.36  | New York   | 156991.12  |\n",
       "| 134615.46  | 147198.87  | 127716.82  | California | 156122.51  |\n",
       "| 130298.13  | 145530.06  | 323876.68  | Florida    | 155752.60  |\n",
       "| 120542.52  | 148718.95  | 311613.29  | New York   | 152211.77  |\n",
       "| 123334.88  | 108679.17  | 304981.62  | California | 149759.96  |\n",
       "| 101913.08  | 110594.11  | 229160.95  | Florida    | 146121.95  |\n",
       "| 100671.96  |  91790.61  | 249744.55  | California | 144259.40  |\n",
       "|  93863.75  | 127320.38  | 249839.44  | Florida    | 141585.52  |\n",
       "|  91992.39  | 135495.07  | 252664.93  | California | 134307.35  |\n",
       "| 119943.24  | 156547.42  | 256512.92  | Florida    | 132602.65  |\n",
       "| 114523.61  | 122616.84  | 261776.23  | New York   | 129917.04  |\n",
       "|  78013.11  | 121597.55  | 264346.06  | California | 126992.93  |\n",
       "|  94657.16  | 145077.58  | 282574.31  | New York   | 125370.37  |\n",
       "|  91749.16  | 114175.79  | 294919.57  | Florida    | 124266.90  |\n",
       "|  86419.70  | 153514.11  |      0.00  | New York   | 122776.86  |\n",
       "|  76253.86  | 113867.30  | 298664.47  | California | 118474.03  |\n",
       "|  78389.47  | 153773.43  | 299737.29  | New York   | 111313.02  |\n",
       "|  73994.56  | 122782.75  | 303319.26  | Florida    | 110352.25  |\n",
       "|  67532.53  | 105751.03  | 304768.73  | Florida    | 108733.99  |\n",
       "|  77044.01  |  99281.34  | 140574.81  | New York   | 108552.04  |\n",
       "|  64664.71  | 139553.16  | 137962.62  | California | 107404.34  |\n",
       "|  75328.87  | 144135.98  | 134050.07  | Florida    | 105733.54  |\n",
       "|  72107.60  | 127864.55  | 353183.81  | New York   | 105008.31  |\n",
       "|  66051.52  | 182645.56  | 118148.20  | Florida    | 103282.38  |\n",
       "|  65605.48  | 153032.06  | 107138.38  | New York   | 101004.64  |\n",
       "|  61994.48  | 115641.28  |  91131.24  | Florida    |  99937.59  |\n",
       "|  61136.38  | 152701.92  |  88218.23  | New York   |  97483.56  |\n",
       "|  63408.86  | 129219.61  |  46085.25  | California |  97427.84  |\n",
       "|  55493.95  | 103057.49  | 214634.81  | Florida    |  96778.92  |\n",
       "|  46426.07  | 157693.92  | 210797.67  | California |  96712.80  |\n",
       "|  46014.02  |  85047.44  | 205517.64  | New York   |  96479.51  |\n",
       "|  28663.76  | 127056.21  | 201126.82  | Florida    |  90708.19  |\n",
       "|  44069.95  |  51283.14  | 197029.42  | California |  89949.14  |\n",
       "|  20229.59  |  65947.93  | 185265.10  | New York   |  81229.06  |\n",
       "|  38558.51  |  82982.09  | 174999.30  | California |  81005.76  |\n",
       "|  28754.33  | 118546.05  | 172795.67  | California |  78239.91  |\n",
       "|  27892.92  |  84710.77  | 164470.71  | Florida    |  77798.83  |\n",
       "|  23640.93  |  96189.63  | 148001.11  | California |  71498.49  |\n",
       "|  15505.73  | 127382.30  |  35534.17  | New York   |  69758.98  |\n",
       "|  22177.74  | 154806.14  |  28334.72  | California |  65200.33  |\n",
       "|   1000.23  | 124153.04  |   1903.93  | New York   |  64926.08  |\n",
       "|   1315.46  | 115816.21  | 297114.46  | Florida    |  49490.75  |\n",
       "|      0.00  | 135426.92  |      0.00  | California |  42559.73  |\n",
       "|    542.05  |  51743.15  |      0.00  | New York   |  35673.41  |\n",
       "|      0.00  | 116983.80  |  45173.06  | California |  14681.40  |\n",
       "\n"
      ],
      "text/plain": [
       "   R.D.Spend Administration Marketing.Spend State      Profit   \n",
       "1  165349.20 136897.80      471784.10       New York   192261.83\n",
       "2  162597.70 151377.59      443898.53       California 191792.06\n",
       "3  153441.51 101145.55      407934.54       Florida    191050.39\n",
       "4  144372.41 118671.85      383199.62       New York   182901.99\n",
       "5  142107.34  91391.77      366168.42       Florida    166187.94\n",
       "6  131876.90  99814.71      362861.36       New York   156991.12\n",
       "7  134615.46 147198.87      127716.82       California 156122.51\n",
       "8  130298.13 145530.06      323876.68       Florida    155752.60\n",
       "9  120542.52 148718.95      311613.29       New York   152211.77\n",
       "10 123334.88 108679.17      304981.62       California 149759.96\n",
       "11 101913.08 110594.11      229160.95       Florida    146121.95\n",
       "12 100671.96  91790.61      249744.55       California 144259.40\n",
       "13  93863.75 127320.38      249839.44       Florida    141585.52\n",
       "14  91992.39 135495.07      252664.93       California 134307.35\n",
       "15 119943.24 156547.42      256512.92       Florida    132602.65\n",
       "16 114523.61 122616.84      261776.23       New York   129917.04\n",
       "17  78013.11 121597.55      264346.06       California 126992.93\n",
       "18  94657.16 145077.58      282574.31       New York   125370.37\n",
       "19  91749.16 114175.79      294919.57       Florida    124266.90\n",
       "20  86419.70 153514.11           0.00       New York   122776.86\n",
       "21  76253.86 113867.30      298664.47       California 118474.03\n",
       "22  78389.47 153773.43      299737.29       New York   111313.02\n",
       "23  73994.56 122782.75      303319.26       Florida    110352.25\n",
       "24  67532.53 105751.03      304768.73       Florida    108733.99\n",
       "25  77044.01  99281.34      140574.81       New York   108552.04\n",
       "26  64664.71 139553.16      137962.62       California 107404.34\n",
       "27  75328.87 144135.98      134050.07       Florida    105733.54\n",
       "28  72107.60 127864.55      353183.81       New York   105008.31\n",
       "29  66051.52 182645.56      118148.20       Florida    103282.38\n",
       "30  65605.48 153032.06      107138.38       New York   101004.64\n",
       "31  61994.48 115641.28       91131.24       Florida     99937.59\n",
       "32  61136.38 152701.92       88218.23       New York    97483.56\n",
       "33  63408.86 129219.61       46085.25       California  97427.84\n",
       "34  55493.95 103057.49      214634.81       Florida     96778.92\n",
       "35  46426.07 157693.92      210797.67       California  96712.80\n",
       "36  46014.02  85047.44      205517.64       New York    96479.51\n",
       "37  28663.76 127056.21      201126.82       Florida     90708.19\n",
       "38  44069.95  51283.14      197029.42       California  89949.14\n",
       "39  20229.59  65947.93      185265.10       New York    81229.06\n",
       "40  38558.51  82982.09      174999.30       California  81005.76\n",
       "41  28754.33 118546.05      172795.67       California  78239.91\n",
       "42  27892.92  84710.77      164470.71       Florida     77798.83\n",
       "43  23640.93  96189.63      148001.11       California  71498.49\n",
       "44  15505.73 127382.30       35534.17       New York    69758.98\n",
       "45  22177.74 154806.14       28334.72       California  65200.33\n",
       "46   1000.23 124153.04        1903.93       New York    64926.08\n",
       "47   1315.46 115816.21      297114.46       Florida     49490.75\n",
       "48      0.00 135426.92           0.00       California  42559.73\n",
       "49    542.05  51743.15           0.00       New York    35673.41\n",
       "50      0.00 116983.80       45173.06       California  14681.40"
      ]
     },
     "metadata": {},
     "output_type": "display_data"
    }
   ],
   "source": [
    "dataset"
   ]
  },
  {
   "cell_type": "code",
   "execution_count": 3,
   "id": "05849624-ba3b-4d0a-954d-f3c981f8cd4b",
   "metadata": {},
   "outputs": [],
   "source": [
    "# Encoding categorical data/ Turning categorical variables into numeric ones\n",
    "dataset$State = factor(dataset$State,\n",
    "                       levels = c('New York', 'California', 'Florida'),\n",
    "                       labels = c(1, 2, 3))"
   ]
  },
  {
   "cell_type": "code",
   "execution_count": 4,
   "id": "318ef80e-8b80-43e2-b79c-1f1b123c42d6",
   "metadata": {},
   "outputs": [
    {
     "name": "stderr",
     "output_type": "stream",
     "text": [
      "Warning message:\n",
      "\"package 'caTools' was built under R version 3.6.3\""
     ]
    }
   ],
   "source": [
    "# Splitting the dataset into the Training set and Test set\n",
    "# install.packages('caTools')\n",
    "library(caTools)\n",
    "set.seed(123)\n",
    "split = sample.split(dataset$Profit, SplitRatio = 0.8)\n",
    "training_set = subset(dataset, split == TRUE)\n",
    "test_set = subset(dataset, split == FALSE)"
   ]
  },
  {
   "cell_type": "code",
   "execution_count": 5,
   "id": "d1db9ed9-a83f-4411-a0f7-8bfc88579c69",
   "metadata": {},
   "outputs": [],
   "source": [
    "# Feature Scaling\n",
    "# training_set = scale(training_set)\n",
    "# test_set = scale(test_set)"
   ]
  },
  {
   "cell_type": "code",
   "execution_count": 6,
   "id": "e01e7a86-537f-4b69-af00-0fe89fa669ed",
   "metadata": {
    "tags": []
   },
   "outputs": [],
   "source": [
    "# Fitting Multiple Linear Regression to the Training set\n",
    "regressor = lm(formula = Profit ~ .,\n",
    "               data = training_set)"
   ]
  },
  {
   "cell_type": "code",
   "execution_count": 7,
   "id": "39623b51-27fd-4898-b24b-ffaaa362388a",
   "metadata": {},
   "outputs": [
    {
     "data": {
      "text/plain": [
       "\n",
       "Call:\n",
       "lm(formula = Profit ~ ., data = training_set)\n",
       "\n",
       "Residuals:\n",
       "   Min     1Q Median     3Q    Max \n",
       "-33128  -4865      5   6098  18065 \n",
       "\n",
       "Coefficients:\n",
       "                  Estimate Std. Error t value Pr(>|t|)    \n",
       "(Intercept)      4.965e+04  7.637e+03   6.501 1.94e-07 ***\n",
       "R.D.Spend        7.986e-01  5.604e-02  14.251 6.70e-16 ***\n",
       "Administration  -2.942e-02  5.828e-02  -0.505    0.617    \n",
       "Marketing.Spend  3.268e-02  2.127e-02   1.537    0.134    \n",
       "State2           1.213e+02  3.751e+03   0.032    0.974    \n",
       "State3           2.376e+02  4.127e+03   0.058    0.954    \n",
       "---\n",
       "Signif. codes:  0 '***' 0.001 '**' 0.01 '*' 0.05 '.' 0.1 ' ' 1\n",
       "\n",
       "Residual standard error: 9908 on 34 degrees of freedom\n",
       "Multiple R-squared:  0.9499,\tAdjusted R-squared:  0.9425 \n",
       "F-statistic:   129 on 5 and 34 DF,  p-value: < 2.2e-16\n"
      ]
     },
     "metadata": {},
     "output_type": "display_data"
    }
   ],
   "source": [
    "summary(regressor)"
   ]
  },
  {
   "cell_type": "code",
   "execution_count": 8,
   "id": "021d7477-0637-4111-856d-86fc6a7bbc9c",
   "metadata": {},
   "outputs": [
    {
     "data": {
      "text/html": [
       "<table>\n",
       "<thead><tr><th></th><th scope=col>y_pred</th><th scope=col>y</th></tr></thead>\n",
       "<tbody>\n",
       "\t<tr><th scope=row>4</th><td>173981.09</td><td>182901.99</td></tr>\n",
       "\t<tr><th scope=row>5</th><td>172655.64</td><td>166187.94</td></tr>\n",
       "\t<tr><th scope=row>8</th><td>160250.02</td><td>155752.60</td></tr>\n",
       "\t<tr><th scope=row>11</th><td>135513.90</td><td>146121.95</td></tr>\n",
       "\t<tr><th scope=row>16</th><td>146059.36</td><td>129917.04</td></tr>\n",
       "\t<tr><th scope=row>20</th><td>114151.03</td><td>122776.86</td></tr>\n",
       "\t<tr><th scope=row>21</th><td>117081.62</td><td>118474.03</td></tr>\n",
       "\t<tr><th scope=row>24</th><td>110671.31</td><td>108733.99</td></tr>\n",
       "\t<tr><th scope=row>31</th><td> 98975.29</td><td> 99937.59</td></tr>\n",
       "\t<tr><th scope=row>32</th><td> 96867.03</td><td> 97483.56</td></tr>\n",
       "</tbody>\n",
       "</table>\n"
      ],
      "text/latex": [
       "\\begin{tabular}{r|ll}\n",
       "  & y\\_pred & y\\\\\n",
       "\\hline\n",
       "\t4 & 173981.09 & 182901.99\\\\\n",
       "\t5 & 172655.64 & 166187.94\\\\\n",
       "\t8 & 160250.02 & 155752.60\\\\\n",
       "\t11 & 135513.90 & 146121.95\\\\\n",
       "\t16 & 146059.36 & 129917.04\\\\\n",
       "\t20 & 114151.03 & 122776.86\\\\\n",
       "\t21 & 117081.62 & 118474.03\\\\\n",
       "\t24 & 110671.31 & 108733.99\\\\\n",
       "\t31 &  98975.29 &  99937.59\\\\\n",
       "\t32 &  96867.03 &  97483.56\\\\\n",
       "\\end{tabular}\n"
      ],
      "text/markdown": [
       "\n",
       "| <!--/--> | y_pred | y |\n",
       "|---|---|---|\n",
       "| 4 | 173981.09 | 182901.99 |\n",
       "| 5 | 172655.64 | 166187.94 |\n",
       "| 8 | 160250.02 | 155752.60 |\n",
       "| 11 | 135513.90 | 146121.95 |\n",
       "| 16 | 146059.36 | 129917.04 |\n",
       "| 20 | 114151.03 | 122776.86 |\n",
       "| 21 | 117081.62 | 118474.03 |\n",
       "| 24 | 110671.31 | 108733.99 |\n",
       "| 31 |  98975.29 |  99937.59 |\n",
       "| 32 |  96867.03 |  97483.56 |\n",
       "\n"
      ],
      "text/plain": [
       "   y_pred    y        \n",
       "4  173981.09 182901.99\n",
       "5  172655.64 166187.94\n",
       "8  160250.02 155752.60\n",
       "11 135513.90 146121.95\n",
       "16 146059.36 129917.04\n",
       "20 114151.03 122776.86\n",
       "21 117081.62 118474.03\n",
       "24 110671.31 108733.99\n",
       "31  98975.29  99937.59\n",
       "32  96867.03  97483.56"
      ]
     },
     "metadata": {},
     "output_type": "display_data"
    }
   ],
   "source": [
    "# Predicting the Test set results\n",
    "y_pred = predict(regressor, newdata = test_set)\n",
    "y_pred = data.frame(y_pred)\n",
    "y_pred$y=test_set$Profit\n",
    "y_pred"
   ]
  },
  {
   "cell_type": "markdown",
   "id": "6a9f2a04-e16f-4dc5-9e07-0b1f9902a206",
   "metadata": {},
   "source": [
    "# Some testing"
   ]
  },
  {
   "cell_type": "code",
   "execution_count": 9,
   "id": "ea61dece-cd87-4c6c-9c68-ab49414a7217",
   "metadata": {},
   "outputs": [
    {
     "data": {
      "text/html": [
       "<table>\n",
       "<thead><tr><th scope=col>RealProfit</th><th scope=col>AllVar_Regr</th><th scope=col>OnlyRDSpend_Regr</th><th scope=col>AllButRDSpend_Regr</th></tr></thead>\n",
       "<tbody>\n",
       "\t<tr><td>182901.99</td><td>173981.09</td><td>172647.9 </td><td>154012.77</td></tr>\n",
       "\t<tr><td>166187.94</td><td>172655.64</td><td>170708.2 </td><td>135024.67</td></tr>\n",
       "\t<tr><td>155752.60</td><td>160250.02</td><td>160595.5 </td><td>139462.57</td></tr>\n",
       "\t<tr><td>146121.95</td><td>135513.90</td><td>136288.1 </td><td>103988.63</td></tr>\n",
       "\t<tr><td>129917.04</td><td>146059.36</td><td>147087.1 </td><td>122705.71</td></tr>\n",
       "\t<tr><td>122776.86</td><td>114151.03</td><td>123020.5 </td><td> 61721.90</td></tr>\n",
       "\t<tr><td>118474.03</td><td>117081.62</td><td>114315.0 </td><td>133846.79</td></tr>\n",
       "\t<tr><td>108733.99</td><td>110671.31</td><td>106846.5 </td><td>122788.92</td></tr>\n",
       "\t<tr><td> 99937.59</td><td> 98975.29</td><td>102104.1 </td><td> 68563.50</td></tr>\n",
       "\t<tr><td> 97483.56</td><td> 96867.03</td><td>101369.2 </td><td> 85064.77</td></tr>\n",
       "</tbody>\n",
       "</table>\n"
      ],
      "text/latex": [
       "\\begin{tabular}{r|llll}\n",
       " RealProfit & AllVar\\_Regr & OnlyRDSpend\\_Regr & AllButRDSpend\\_Regr\\\\\n",
       "\\hline\n",
       "\t 182901.99 & 173981.09 & 172647.9  & 154012.77\\\\\n",
       "\t 166187.94 & 172655.64 & 170708.2  & 135024.67\\\\\n",
       "\t 155752.60 & 160250.02 & 160595.5  & 139462.57\\\\\n",
       "\t 146121.95 & 135513.90 & 136288.1  & 103988.63\\\\\n",
       "\t 129917.04 & 146059.36 & 147087.1  & 122705.71\\\\\n",
       "\t 122776.86 & 114151.03 & 123020.5  &  61721.90\\\\\n",
       "\t 118474.03 & 117081.62 & 114315.0  & 133846.79\\\\\n",
       "\t 108733.99 & 110671.31 & 106846.5  & 122788.92\\\\\n",
       "\t  99937.59 &  98975.29 & 102104.1  &  68563.50\\\\\n",
       "\t  97483.56 &  96867.03 & 101369.2  &  85064.77\\\\\n",
       "\\end{tabular}\n"
      ],
      "text/markdown": [
       "\n",
       "| RealProfit | AllVar_Regr | OnlyRDSpend_Regr | AllButRDSpend_Regr |\n",
       "|---|---|---|---|\n",
       "| 182901.99 | 173981.09 | 172647.9  | 154012.77 |\n",
       "| 166187.94 | 172655.64 | 170708.2  | 135024.67 |\n",
       "| 155752.60 | 160250.02 | 160595.5  | 139462.57 |\n",
       "| 146121.95 | 135513.90 | 136288.1  | 103988.63 |\n",
       "| 129917.04 | 146059.36 | 147087.1  | 122705.71 |\n",
       "| 122776.86 | 114151.03 | 123020.5  |  61721.90 |\n",
       "| 118474.03 | 117081.62 | 114315.0  | 133846.79 |\n",
       "| 108733.99 | 110671.31 | 106846.5  | 122788.92 |\n",
       "|  99937.59 |  98975.29 | 102104.1  |  68563.50 |\n",
       "|  97483.56 |  96867.03 | 101369.2  |  85064.77 |\n",
       "\n"
      ],
      "text/plain": [
       "   RealProfit AllVar_Regr OnlyRDSpend_Regr AllButRDSpend_Regr\n",
       "1  182901.99  173981.09   172647.9         154012.77         \n",
       "2  166187.94  172655.64   170708.2         135024.67         \n",
       "3  155752.60  160250.02   160595.5         139462.57         \n",
       "4  146121.95  135513.90   136288.1         103988.63         \n",
       "5  129917.04  146059.36   147087.1         122705.71         \n",
       "6  122776.86  114151.03   123020.5          61721.90         \n",
       "7  118474.03  117081.62   114315.0         133846.79         \n",
       "8  108733.99  110671.31   106846.5         122788.92         \n",
       "9   99937.59   98975.29   102104.1          68563.50         \n",
       "10  97483.56   96867.03   101369.2          85064.77         "
      ]
     },
     "metadata": {},
     "output_type": "display_data"
    }
   ],
   "source": [
    "# Predicting the Test set results\n",
    "regressor1 = lm(formula = Profit ~ .,\n",
    "               data = training_set)\n",
    "\n",
    "regressor2 = lm(formula = Profit ~ R.D.Spend,\n",
    "               data = training_set)\n",
    "\n",
    "regressor3 = lm(formula = Profit ~ Administration + State + Marketing.Spend,\n",
    "               data = training_set)\n",
    "\n",
    "df = data.frame(test_set$Profit)\n",
    "names(df) = \"RealProfit\"\n",
    "df$AllVar_Regr = predict(regressor1, newdata = test_set)\n",
    "df$OnlyRDSpend_Regr = predict(regressor2, newdata = test_set)\n",
    "df$AllButRDSpend_Regr = predict(regressor3, newdata = test_set)\n",
    "df"
   ]
  },
  {
   "cell_type": "markdown",
   "id": "e989a29b-9b51-4997-9817-7898ed3f2555",
   "metadata": {},
   "source": [
    "# Backward Elimination"
   ]
  },
  {
   "cell_type": "code",
   "execution_count": 10,
   "id": "e5cdc03d-c848-4fe1-ab3d-47ed7455c5e8",
   "metadata": {},
   "outputs": [
    {
     "data": {
      "text/plain": [
       "\n",
       "Call:\n",
       "lm(formula = Profit ~ R.D.Spend + Administration + Marketing.Spend + \n",
       "    State, data = dataset)\n",
       "\n",
       "Residuals:\n",
       "   Min     1Q Median     3Q    Max \n",
       "-33504  -4736     90   6672  17338 \n",
       "\n",
       "Coefficients:\n",
       "                  Estimate Std. Error t value Pr(>|t|)    \n",
       "(Intercept)      5.008e+04  6.953e+03   7.204 5.76e-09 ***\n",
       "R.D.Spend        8.060e-01  4.641e-02  17.369  < 2e-16 ***\n",
       "Administration  -2.700e-02  5.223e-02  -0.517    0.608    \n",
       "Marketing.Spend  2.698e-02  1.714e-02   1.574    0.123    \n",
       "State2           4.189e+01  3.256e+03   0.013    0.990    \n",
       "State3           2.407e+02  3.339e+03   0.072    0.943    \n",
       "---\n",
       "Signif. codes:  0 '***' 0.001 '**' 0.01 '*' 0.05 '.' 0.1 ' ' 1\n",
       "\n",
       "Residual standard error: 9439 on 44 degrees of freedom\n",
       "Multiple R-squared:  0.9508,\tAdjusted R-squared:  0.9452 \n",
       "F-statistic: 169.9 on 5 and 44 DF,  p-value: < 2.2e-16\n"
      ]
     },
     "metadata": {},
     "output_type": "display_data"
    }
   ],
   "source": [
    "# Fitting Multiple Linear Regression to the Training set\n",
    "regressor = lm(formula = Profit ~ R.D.Spend + Administration + Marketing.Spend + State,\n",
    "               data = dataset)\n",
    "summary(regressor)"
   ]
  },
  {
   "cell_type": "code",
   "execution_count": 11,
   "id": "95f0e0d0-e35b-4511-82cb-be7800025c61",
   "metadata": {},
   "outputs": [
    {
     "data": {
      "text/plain": [
       "\n",
       "Call:\n",
       "lm(formula = Profit ~ R.D.Spend + Administration + Marketing.Spend, \n",
       "    data = dataset)\n",
       "\n",
       "Residuals:\n",
       "   Min     1Q Median     3Q    Max \n",
       "-33534  -4795     63   6606  17275 \n",
       "\n",
       "Coefficients:\n",
       "                  Estimate Std. Error t value Pr(>|t|)    \n",
       "(Intercept)      5.012e+04  6.572e+03   7.626 1.06e-09 ***\n",
       "R.D.Spend        8.057e-01  4.515e-02  17.846  < 2e-16 ***\n",
       "Administration  -2.682e-02  5.103e-02  -0.526    0.602    \n",
       "Marketing.Spend  2.723e-02  1.645e-02   1.655    0.105    \n",
       "---\n",
       "Signif. codes:  0 '***' 0.001 '**' 0.01 '*' 0.05 '.' 0.1 ' ' 1\n",
       "\n",
       "Residual standard error: 9232 on 46 degrees of freedom\n",
       "Multiple R-squared:  0.9507,\tAdjusted R-squared:  0.9475 \n",
       "F-statistic:   296 on 3 and 46 DF,  p-value: < 2.2e-16\n"
      ]
     },
     "metadata": {},
     "output_type": "display_data"
    }
   ],
   "source": [
    "# Fitting Multiple Linear Regression to the Training set\n",
    "regressor = lm(formula = Profit ~ R.D.Spend + Administration + Marketing.Spend,\n",
    "               data = dataset)\n",
    "summary(regressor)"
   ]
  },
  {
   "cell_type": "code",
   "execution_count": 12,
   "id": "4aecf491-f3a8-45d7-924e-60741254039a",
   "metadata": {},
   "outputs": [
    {
     "data": {
      "text/plain": [
       "\n",
       "Call:\n",
       "lm(formula = Profit ~ R.D.Spend + Marketing.Spend, data = dataset)\n",
       "\n",
       "Residuals:\n",
       "   Min     1Q Median     3Q    Max \n",
       "-33645  -4632   -414   6484  17097 \n",
       "\n",
       "Coefficients:\n",
       "                 Estimate Std. Error t value Pr(>|t|)    \n",
       "(Intercept)     4.698e+04  2.690e+03  17.464   <2e-16 ***\n",
       "R.D.Spend       7.966e-01  4.135e-02  19.266   <2e-16 ***\n",
       "Marketing.Spend 2.991e-02  1.552e-02   1.927     0.06 .  \n",
       "---\n",
       "Signif. codes:  0 '***' 0.001 '**' 0.01 '*' 0.05 '.' 0.1 ' ' 1\n",
       "\n",
       "Residual standard error: 9161 on 47 degrees of freedom\n",
       "Multiple R-squared:  0.9505,\tAdjusted R-squared:  0.9483 \n",
       "F-statistic: 450.8 on 2 and 47 DF,  p-value: < 2.2e-16\n"
      ]
     },
     "metadata": {},
     "output_type": "display_data"
    }
   ],
   "source": [
    "# Fitting Multiple Linear Regression to the Training set\n",
    "regressor = lm(formula = Profit ~ R.D.Spend + Marketing.Spend,\n",
    "               data = dataset)\n",
    "summary(regressor)"
   ]
  },
  {
   "cell_type": "code",
   "execution_count": 13,
   "id": "3aebf1f0-26f7-4045-84b7-6374166b8798",
   "metadata": {},
   "outputs": [
    {
     "data": {
      "text/plain": [
       "\n",
       "Call:\n",
       "lm(formula = Profit ~ R.D.Spend, data = dataset)\n",
       "\n",
       "Residuals:\n",
       "   Min     1Q Median     3Q    Max \n",
       "-34351  -4626   -375   6249  17188 \n",
       "\n",
       "Coefficients:\n",
       "             Estimate Std. Error t value Pr(>|t|)    \n",
       "(Intercept) 4.903e+04  2.538e+03   19.32   <2e-16 ***\n",
       "R.D.Spend   8.543e-01  2.931e-02   29.15   <2e-16 ***\n",
       "---\n",
       "Signif. codes:  0 '***' 0.001 '**' 0.01 '*' 0.05 '.' 0.1 ' ' 1\n",
       "\n",
       "Residual standard error: 9416 on 48 degrees of freedom\n",
       "Multiple R-squared:  0.9465,\tAdjusted R-squared:  0.9454 \n",
       "F-statistic: 849.8 on 1 and 48 DF,  p-value: < 2.2e-16\n"
      ]
     },
     "metadata": {},
     "output_type": "display_data"
    }
   ],
   "source": [
    "# Fitting Multiple Linear Regression to the Training set\n",
    "regressor = lm(formula = Profit ~ R.D.Spend,\n",
    "               data = dataset)\n",
    "summary(regressor)"
   ]
  },
  {
   "cell_type": "code",
   "execution_count": 14,
   "id": "e00ab8f2-4570-4418-ae66-73284e6ff4e9",
   "metadata": {},
   "outputs": [
    {
     "data": {
      "text/html": [
       "<table>\n",
       "<thead><tr><th></th><th scope=col>y_pred</th><th scope=col>y</th></tr></thead>\n",
       "<tbody>\n",
       "\t<tr><th scope=row>4</th><td>172369.0 </td><td>182901.99</td></tr>\n",
       "\t<tr><th scope=row>5</th><td>170434.0 </td><td>166187.94</td></tr>\n",
       "\t<tr><th scope=row>8</th><td>160345.5 </td><td>155752.60</td></tr>\n",
       "\t<tr><th scope=row>11</th><td>136096.4 </td><td>146121.95</td></tr>\n",
       "\t<tr><th scope=row>16</th><td>146869.4 </td><td>129917.04</td></tr>\n",
       "\t<tr><th scope=row>20</th><td>122860.5 </td><td>122776.86</td></tr>\n",
       "\t<tr><th scope=row>21</th><td>114175.9 </td><td>118474.03</td></tr>\n",
       "\t<tr><th scope=row>24</th><td>106725.4 </td><td>108733.99</td></tr>\n",
       "\t<tr><th scope=row>31</th><td>101994.2 </td><td> 99937.59</td></tr>\n",
       "\t<tr><th scope=row>32</th><td>101261.2 </td><td> 97483.56</td></tr>\n",
       "</tbody>\n",
       "</table>\n"
      ],
      "text/latex": [
       "\\begin{tabular}{r|ll}\n",
       "  & y\\_pred & y\\\\\n",
       "\\hline\n",
       "\t4 & 172369.0  & 182901.99\\\\\n",
       "\t5 & 170434.0  & 166187.94\\\\\n",
       "\t8 & 160345.5  & 155752.60\\\\\n",
       "\t11 & 136096.4  & 146121.95\\\\\n",
       "\t16 & 146869.4  & 129917.04\\\\\n",
       "\t20 & 122860.5  & 122776.86\\\\\n",
       "\t21 & 114175.9  & 118474.03\\\\\n",
       "\t24 & 106725.4  & 108733.99\\\\\n",
       "\t31 & 101994.2  &  99937.59\\\\\n",
       "\t32 & 101261.2  &  97483.56\\\\\n",
       "\\end{tabular}\n"
      ],
      "text/markdown": [
       "\n",
       "| <!--/--> | y_pred | y |\n",
       "|---|---|---|\n",
       "| 4 | 172369.0  | 182901.99 |\n",
       "| 5 | 170434.0  | 166187.94 |\n",
       "| 8 | 160345.5  | 155752.60 |\n",
       "| 11 | 136096.4  | 146121.95 |\n",
       "| 16 | 146869.4  | 129917.04 |\n",
       "| 20 | 122860.5  | 122776.86 |\n",
       "| 21 | 114175.9  | 118474.03 |\n",
       "| 24 | 106725.4  | 108733.99 |\n",
       "| 31 | 101994.2  |  99937.59 |\n",
       "| 32 | 101261.2  |  97483.56 |\n",
       "\n"
      ],
      "text/plain": [
       "   y_pred   y        \n",
       "4  172369.0 182901.99\n",
       "5  170434.0 166187.94\n",
       "8  160345.5 155752.60\n",
       "11 136096.4 146121.95\n",
       "16 146869.4 129917.04\n",
       "20 122860.5 122776.86\n",
       "21 114175.9 118474.03\n",
       "24 106725.4 108733.99\n",
       "31 101994.2  99937.59\n",
       "32 101261.2  97483.56"
      ]
     },
     "metadata": {},
     "output_type": "display_data"
    }
   ],
   "source": [
    "# Predicting the Test set results\n",
    "y_pred = predict(regressor, newdata = test_set)\n",
    "y_pred = data.frame(y_pred)\n",
    "y_pred$y=test_set$Profit\n",
    "y_pred"
   ]
  },
  {
   "cell_type": "markdown",
   "id": "922d5808-1e3a-4ee8-9df7-fc16d228b79d",
   "metadata": {},
   "source": [
    "## Function for automatic B.E."
   ]
  },
  {
   "cell_type": "code",
   "execution_count": 15,
   "id": "7fcf70c9-758b-4d24-905f-10710f6641f8",
   "metadata": {},
   "outputs": [],
   "source": [
    "backwardElimination <- function(x, sl) {\n",
    "    numVars = length(x)\n",
    "    for (i in c(1:numVars)){\n",
    "      regressor = lm(formula = Profit ~ ., data = x)\n",
    "      maxVar = max(coef(summary(regressor))[c(2:numVars), \"Pr(>|t|)\"])\n",
    "      if (maxVar > sl){\n",
    "        j = which(coef(summary(regressor))[c(2:numVars), \"Pr(>|t|)\"] == maxVar)\n",
    "        x = x[, -j]\n",
    "      }\n",
    "      numVars = numVars - 1\n",
    "    }\n",
    "    return(summary(regressor))\n",
    "  }"
   ]
  },
  {
   "cell_type": "code",
   "execution_count": 16,
   "id": "3bcdfbb1-4361-4cf9-9d5b-3d5f5521e54b",
   "metadata": {},
   "outputs": [
    {
     "data": {
      "text/plain": [
       "\n",
       "Call:\n",
       "lm(formula = Profit ~ ., data = x)\n",
       "\n",
       "Residuals:\n",
       "   Min     1Q Median     3Q    Max \n",
       "-33645  -4632   -414   6484  17097 \n",
       "\n",
       "Coefficients:\n",
       "                 Estimate Std. Error t value Pr(>|t|)    \n",
       "(Intercept)     4.698e+04  2.690e+03  17.464   <2e-16 ***\n",
       "R.D.Spend       7.966e-01  4.135e-02  19.266   <2e-16 ***\n",
       "Marketing.Spend 2.991e-02  1.552e-02   1.927     0.06 .  \n",
       "---\n",
       "Signif. codes:  0 '***' 0.001 '**' 0.01 '*' 0.05 '.' 0.1 ' ' 1\n",
       "\n",
       "Residual standard error: 9161 on 47 degrees of freedom\n",
       "Multiple R-squared:  0.9505,\tAdjusted R-squared:  0.9483 \n",
       "F-statistic: 450.8 on 2 and 47 DF,  p-value: < 2.2e-16\n"
      ]
     },
     "metadata": {},
     "output_type": "display_data"
    }
   ],
   "source": [
    "SL = 0.07\n",
    "# dataset = dataset[, c(1,2,3,4,5)] # Idk what this does so I removed it\n",
    "backwardElimination(dataset, SL)"
   ]
  }
 ],
 "metadata": {
  "kernelspec": {
   "display_name": "R",
   "language": "R",
   "name": "ir"
  },
  "language_info": {
   "codemirror_mode": "r",
   "file_extension": ".r",
   "mimetype": "text/x-r-source",
   "name": "R",
   "pygments_lexer": "r",
   "version": "3.6.1"
  }
 },
 "nbformat": 4,
 "nbformat_minor": 5
}
