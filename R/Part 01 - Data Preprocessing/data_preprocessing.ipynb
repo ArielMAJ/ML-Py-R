{
 "cells": [
  {
   "cell_type": "markdown",
   "id": "3ebcde0a-444f-4ca8-9598-7d7645d631f7",
   "metadata": {},
   "source": [
    "# Importing dataset"
   ]
  },
  {
   "cell_type": "code",
   "execution_count": 1,
   "id": "00c1379b-4a06-4642-b621-3bba2d089f4f",
   "metadata": {},
   "outputs": [],
   "source": [
    "dataset = read.csv(\"Data.csv\")"
   ]
  },
  {
   "cell_type": "code",
   "execution_count": 2,
   "id": "4e13ad70-df03-484a-baab-00a5edfc38e4",
   "metadata": {},
   "outputs": [
    {
     "data": {
      "text/html": [
       "<table>\n",
       "<thead><tr><th scope=col>Country</th><th scope=col>Age</th><th scope=col>Salary</th><th scope=col>Purchased</th></tr></thead>\n",
       "<tbody>\n",
       "\t<tr><td>France </td><td>44     </td><td>72000  </td><td>No     </td></tr>\n",
       "\t<tr><td>Spain  </td><td>27     </td><td>48000  </td><td>Yes    </td></tr>\n",
       "\t<tr><td>Germany</td><td>30     </td><td>54000  </td><td>No     </td></tr>\n",
       "\t<tr><td>Spain  </td><td>38     </td><td>61000  </td><td>No     </td></tr>\n",
       "\t<tr><td>Germany</td><td>40     </td><td>   NA  </td><td>Yes    </td></tr>\n",
       "\t<tr><td>France </td><td>35     </td><td>58000  </td><td>Yes    </td></tr>\n",
       "\t<tr><td>Spain  </td><td>NA     </td><td>52000  </td><td>No     </td></tr>\n",
       "\t<tr><td>France </td><td>48     </td><td>79000  </td><td>Yes    </td></tr>\n",
       "\t<tr><td>Germany</td><td>50     </td><td>83000  </td><td>No     </td></tr>\n",
       "\t<tr><td>France </td><td>37     </td><td>67000  </td><td>Yes    </td></tr>\n",
       "</tbody>\n",
       "</table>\n"
      ],
      "text/latex": [
       "\\begin{tabular}{r|llll}\n",
       " Country & Age & Salary & Purchased\\\\\n",
       "\\hline\n",
       "\t France  & 44      & 72000   & No     \\\\\n",
       "\t Spain   & 27      & 48000   & Yes    \\\\\n",
       "\t Germany & 30      & 54000   & No     \\\\\n",
       "\t Spain   & 38      & 61000   & No     \\\\\n",
       "\t Germany & 40      &    NA   & Yes    \\\\\n",
       "\t France  & 35      & 58000   & Yes    \\\\\n",
       "\t Spain   & NA      & 52000   & No     \\\\\n",
       "\t France  & 48      & 79000   & Yes    \\\\\n",
       "\t Germany & 50      & 83000   & No     \\\\\n",
       "\t France  & 37      & 67000   & Yes    \\\\\n",
       "\\end{tabular}\n"
      ],
      "text/markdown": [
       "\n",
       "| Country | Age | Salary | Purchased |\n",
       "|---|---|---|---|\n",
       "| France  | 44      | 72000   | No      |\n",
       "| Spain   | 27      | 48000   | Yes     |\n",
       "| Germany | 30      | 54000   | No      |\n",
       "| Spain   | 38      | 61000   | No      |\n",
       "| Germany | 40      |    NA   | Yes     |\n",
       "| France  | 35      | 58000   | Yes     |\n",
       "| Spain   | NA      | 52000   | No      |\n",
       "| France  | 48      | 79000   | Yes     |\n",
       "| Germany | 50      | 83000   | No      |\n",
       "| France  | 37      | 67000   | Yes     |\n",
       "\n"
      ],
      "text/plain": [
       "   Country Age Salary Purchased\n",
       "1  France  44  72000  No       \n",
       "2  Spain   27  48000  Yes      \n",
       "3  Germany 30  54000  No       \n",
       "4  Spain   38  61000  No       \n",
       "5  Germany 40     NA  Yes      \n",
       "6  France  35  58000  Yes      \n",
       "7  Spain   NA  52000  No       \n",
       "8  France  48  79000  Yes      \n",
       "9  Germany 50  83000  No       \n",
       "10 France  37  67000  Yes      "
      ]
     },
     "metadata": {},
     "output_type": "display_data"
    }
   ],
   "source": [
    "dataset"
   ]
  },
  {
   "cell_type": "markdown",
   "id": "7b0fc002-8254-45b6-b92f-9b158c624d44",
   "metadata": {},
   "source": [
    "# Handling Missing Data"
   ]
  },
  {
   "cell_type": "markdown",
   "id": "11a3a80d-ee9b-4ccf-a4fe-650c6ffd37e7",
   "metadata": {},
   "source": [
    "ifelse(condition, returnIfTrue, returnIfFalse)"
   ]
  },
  {
   "cell_type": "markdown",
   "id": "4a6e71e7-5168-472c-9861-d619b4205653",
   "metadata": {},
   "source": [
    "R is very array/vector/matrix/dataframe oriented. So, more often than not, commands you do on those datatypes will be automatically applied to every item as if you were doing it one at a time.\n",
    "\n",
    "Here it will run the conditional item by item on the dataframe column as if you had written it in a for loop:"
   ]
  },
  {
   "cell_type": "code",
   "execution_count": 3,
   "id": "957caee0-328e-4195-b1b2-80437d07bd3b",
   "metadata": {},
   "outputs": [],
   "source": [
    "dataset$Age=ifelse(\n",
    "    is.na(dataset$Age),\n",
    "    ave(dataset$Age, FUN = function(x) mean(x, na.rm=TRUE)),\n",
    "    dataset$Age\n",
    ")"
   ]
  },
  {
   "cell_type": "code",
   "execution_count": 4,
   "id": "3e6aee63-1d34-4081-97a1-442294f119f3",
   "metadata": {},
   "outputs": [],
   "source": [
    "dataset$Salary = ifelse(\n",
    "    is.na(dataset$Salary),\n",
    "    ave(dataset$Salary, FUN = function(x) mean(x, na.rm=TRUE)),\n",
    "    dataset$Salary\n",
    ")"
   ]
  },
  {
   "cell_type": "code",
   "execution_count": 5,
   "id": "79a8ab1a-15f7-4a23-b076-64a1eea5fdb3",
   "metadata": {},
   "outputs": [
    {
     "data": {
      "text/html": [
       "<table>\n",
       "<thead><tr><th scope=col>Country</th><th scope=col>Age</th><th scope=col>Salary</th><th scope=col>Purchased</th></tr></thead>\n",
       "<tbody>\n",
       "\t<tr><td>France  </td><td>44.00000</td><td>72000.00</td><td>No      </td></tr>\n",
       "\t<tr><td>Spain   </td><td>27.00000</td><td>48000.00</td><td>Yes     </td></tr>\n",
       "\t<tr><td>Germany </td><td>30.00000</td><td>54000.00</td><td>No      </td></tr>\n",
       "\t<tr><td>Spain   </td><td>38.00000</td><td>61000.00</td><td>No      </td></tr>\n",
       "\t<tr><td>Germany </td><td>40.00000</td><td>63777.78</td><td>Yes     </td></tr>\n",
       "\t<tr><td>France  </td><td>35.00000</td><td>58000.00</td><td>Yes     </td></tr>\n",
       "\t<tr><td>Spain   </td><td>38.77778</td><td>52000.00</td><td>No      </td></tr>\n",
       "\t<tr><td>France  </td><td>48.00000</td><td>79000.00</td><td>Yes     </td></tr>\n",
       "\t<tr><td>Germany </td><td>50.00000</td><td>83000.00</td><td>No      </td></tr>\n",
       "\t<tr><td>France  </td><td>37.00000</td><td>67000.00</td><td>Yes     </td></tr>\n",
       "</tbody>\n",
       "</table>\n"
      ],
      "text/latex": [
       "\\begin{tabular}{r|llll}\n",
       " Country & Age & Salary & Purchased\\\\\n",
       "\\hline\n",
       "\t France   & 44.00000 & 72000.00 & No      \\\\\n",
       "\t Spain    & 27.00000 & 48000.00 & Yes     \\\\\n",
       "\t Germany  & 30.00000 & 54000.00 & No      \\\\\n",
       "\t Spain    & 38.00000 & 61000.00 & No      \\\\\n",
       "\t Germany  & 40.00000 & 63777.78 & Yes     \\\\\n",
       "\t France   & 35.00000 & 58000.00 & Yes     \\\\\n",
       "\t Spain    & 38.77778 & 52000.00 & No      \\\\\n",
       "\t France   & 48.00000 & 79000.00 & Yes     \\\\\n",
       "\t Germany  & 50.00000 & 83000.00 & No      \\\\\n",
       "\t France   & 37.00000 & 67000.00 & Yes     \\\\\n",
       "\\end{tabular}\n"
      ],
      "text/markdown": [
       "\n",
       "| Country | Age | Salary | Purchased |\n",
       "|---|---|---|---|\n",
       "| France   | 44.00000 | 72000.00 | No       |\n",
       "| Spain    | 27.00000 | 48000.00 | Yes      |\n",
       "| Germany  | 30.00000 | 54000.00 | No       |\n",
       "| Spain    | 38.00000 | 61000.00 | No       |\n",
       "| Germany  | 40.00000 | 63777.78 | Yes      |\n",
       "| France   | 35.00000 | 58000.00 | Yes      |\n",
       "| Spain    | 38.77778 | 52000.00 | No       |\n",
       "| France   | 48.00000 | 79000.00 | Yes      |\n",
       "| Germany  | 50.00000 | 83000.00 | No       |\n",
       "| France   | 37.00000 | 67000.00 | Yes      |\n",
       "\n"
      ],
      "text/plain": [
       "   Country Age      Salary   Purchased\n",
       "1  France  44.00000 72000.00 No       \n",
       "2  Spain   27.00000 48000.00 Yes      \n",
       "3  Germany 30.00000 54000.00 No       \n",
       "4  Spain   38.00000 61000.00 No       \n",
       "5  Germany 40.00000 63777.78 Yes      \n",
       "6  France  35.00000 58000.00 Yes      \n",
       "7  Spain   38.77778 52000.00 No       \n",
       "8  France  48.00000 79000.00 Yes      \n",
       "9  Germany 50.00000 83000.00 No       \n",
       "10 France  37.00000 67000.00 Yes      "
      ]
     },
     "metadata": {},
     "output_type": "display_data"
    }
   ],
   "source": [
    "dataset"
   ]
  },
  {
   "cell_type": "markdown",
   "id": "86624e8c-91d7-49bd-938b-79be5fbfa94f",
   "metadata": {},
   "source": [
    "# Enconding Categorical Data"
   ]
  },
  {
   "cell_type": "code",
   "execution_count": 6,
   "id": "7f2c23db-41b1-488b-ae2d-6f8bc4100212",
   "metadata": {},
   "outputs": [],
   "source": [
    "dataset$Country = factor(\n",
    "    dataset$Country,\n",
    "    levels = c(\"France\",\"Spain\",\"Germany\"),\n",
    "    labels = c(1, 2, 3)\n",
    ")"
   ]
  },
  {
   "cell_type": "code",
   "execution_count": 7,
   "id": "3f6a5d5a-4905-43dd-acd7-69fc6153aaf8",
   "metadata": {},
   "outputs": [
    {
     "data": {
      "text/html": [
       "<table>\n",
       "<thead><tr><th scope=col>Country</th><th scope=col>Age</th><th scope=col>Salary</th><th scope=col>Purchased</th></tr></thead>\n",
       "<tbody>\n",
       "\t<tr><td>1       </td><td>44.00000</td><td>72000.00</td><td>No      </td></tr>\n",
       "\t<tr><td>2       </td><td>27.00000</td><td>48000.00</td><td>Yes     </td></tr>\n",
       "\t<tr><td>3       </td><td>30.00000</td><td>54000.00</td><td>No      </td></tr>\n",
       "\t<tr><td>2       </td><td>38.00000</td><td>61000.00</td><td>No      </td></tr>\n",
       "\t<tr><td>3       </td><td>40.00000</td><td>63777.78</td><td>Yes     </td></tr>\n",
       "\t<tr><td>1       </td><td>35.00000</td><td>58000.00</td><td>Yes     </td></tr>\n",
       "\t<tr><td>2       </td><td>38.77778</td><td>52000.00</td><td>No      </td></tr>\n",
       "\t<tr><td>1       </td><td>48.00000</td><td>79000.00</td><td>Yes     </td></tr>\n",
       "\t<tr><td>3       </td><td>50.00000</td><td>83000.00</td><td>No      </td></tr>\n",
       "\t<tr><td>1       </td><td>37.00000</td><td>67000.00</td><td>Yes     </td></tr>\n",
       "</tbody>\n",
       "</table>\n"
      ],
      "text/latex": [
       "\\begin{tabular}{r|llll}\n",
       " Country & Age & Salary & Purchased\\\\\n",
       "\\hline\n",
       "\t 1        & 44.00000 & 72000.00 & No      \\\\\n",
       "\t 2        & 27.00000 & 48000.00 & Yes     \\\\\n",
       "\t 3        & 30.00000 & 54000.00 & No      \\\\\n",
       "\t 2        & 38.00000 & 61000.00 & No      \\\\\n",
       "\t 3        & 40.00000 & 63777.78 & Yes     \\\\\n",
       "\t 1        & 35.00000 & 58000.00 & Yes     \\\\\n",
       "\t 2        & 38.77778 & 52000.00 & No      \\\\\n",
       "\t 1        & 48.00000 & 79000.00 & Yes     \\\\\n",
       "\t 3        & 50.00000 & 83000.00 & No      \\\\\n",
       "\t 1        & 37.00000 & 67000.00 & Yes     \\\\\n",
       "\\end{tabular}\n"
      ],
      "text/markdown": [
       "\n",
       "| Country | Age | Salary | Purchased |\n",
       "|---|---|---|---|\n",
       "| 1        | 44.00000 | 72000.00 | No       |\n",
       "| 2        | 27.00000 | 48000.00 | Yes      |\n",
       "| 3        | 30.00000 | 54000.00 | No       |\n",
       "| 2        | 38.00000 | 61000.00 | No       |\n",
       "| 3        | 40.00000 | 63777.78 | Yes      |\n",
       "| 1        | 35.00000 | 58000.00 | Yes      |\n",
       "| 2        | 38.77778 | 52000.00 | No       |\n",
       "| 1        | 48.00000 | 79000.00 | Yes      |\n",
       "| 3        | 50.00000 | 83000.00 | No       |\n",
       "| 1        | 37.00000 | 67000.00 | Yes      |\n",
       "\n"
      ],
      "text/plain": [
       "   Country Age      Salary   Purchased\n",
       "1  1       44.00000 72000.00 No       \n",
       "2  2       27.00000 48000.00 Yes      \n",
       "3  3       30.00000 54000.00 No       \n",
       "4  2       38.00000 61000.00 No       \n",
       "5  3       40.00000 63777.78 Yes      \n",
       "6  1       35.00000 58000.00 Yes      \n",
       "7  2       38.77778 52000.00 No       \n",
       "8  1       48.00000 79000.00 Yes      \n",
       "9  3       50.00000 83000.00 No       \n",
       "10 1       37.00000 67000.00 Yes      "
      ]
     },
     "metadata": {},
     "output_type": "display_data"
    }
   ],
   "source": [
    "dataset"
   ]
  },
  {
   "cell_type": "code",
   "execution_count": 8,
   "id": "ebbff111-2261-46fd-a200-be932d5e5394",
   "metadata": {},
   "outputs": [],
   "source": [
    "dataset$Purchased = factor(\n",
    "    dataset$Purchased,\n",
    "    levels = c(\"No\",\"Yes\"),\n",
    "    labels = c(0, 1)\n",
    ") "
   ]
  },
  {
   "cell_type": "code",
   "execution_count": 9,
   "id": "7a617cc3-19fa-458a-88da-71cf0a98fcae",
   "metadata": {},
   "outputs": [
    {
     "data": {
      "text/html": [
       "<table>\n",
       "<thead><tr><th scope=col>Country</th><th scope=col>Age</th><th scope=col>Salary</th><th scope=col>Purchased</th></tr></thead>\n",
       "<tbody>\n",
       "\t<tr><td>1       </td><td>44.00000</td><td>72000.00</td><td>0       </td></tr>\n",
       "\t<tr><td>2       </td><td>27.00000</td><td>48000.00</td><td>1       </td></tr>\n",
       "\t<tr><td>3       </td><td>30.00000</td><td>54000.00</td><td>0       </td></tr>\n",
       "\t<tr><td>2       </td><td>38.00000</td><td>61000.00</td><td>0       </td></tr>\n",
       "\t<tr><td>3       </td><td>40.00000</td><td>63777.78</td><td>1       </td></tr>\n",
       "\t<tr><td>1       </td><td>35.00000</td><td>58000.00</td><td>1       </td></tr>\n",
       "\t<tr><td>2       </td><td>38.77778</td><td>52000.00</td><td>0       </td></tr>\n",
       "\t<tr><td>1       </td><td>48.00000</td><td>79000.00</td><td>1       </td></tr>\n",
       "\t<tr><td>3       </td><td>50.00000</td><td>83000.00</td><td>0       </td></tr>\n",
       "\t<tr><td>1       </td><td>37.00000</td><td>67000.00</td><td>1       </td></tr>\n",
       "</tbody>\n",
       "</table>\n"
      ],
      "text/latex": [
       "\\begin{tabular}{r|llll}\n",
       " Country & Age & Salary & Purchased\\\\\n",
       "\\hline\n",
       "\t 1        & 44.00000 & 72000.00 & 0       \\\\\n",
       "\t 2        & 27.00000 & 48000.00 & 1       \\\\\n",
       "\t 3        & 30.00000 & 54000.00 & 0       \\\\\n",
       "\t 2        & 38.00000 & 61000.00 & 0       \\\\\n",
       "\t 3        & 40.00000 & 63777.78 & 1       \\\\\n",
       "\t 1        & 35.00000 & 58000.00 & 1       \\\\\n",
       "\t 2        & 38.77778 & 52000.00 & 0       \\\\\n",
       "\t 1        & 48.00000 & 79000.00 & 1       \\\\\n",
       "\t 3        & 50.00000 & 83000.00 & 0       \\\\\n",
       "\t 1        & 37.00000 & 67000.00 & 1       \\\\\n",
       "\\end{tabular}\n"
      ],
      "text/markdown": [
       "\n",
       "| Country | Age | Salary | Purchased |\n",
       "|---|---|---|---|\n",
       "| 1        | 44.00000 | 72000.00 | 0        |\n",
       "| 2        | 27.00000 | 48000.00 | 1        |\n",
       "| 3        | 30.00000 | 54000.00 | 0        |\n",
       "| 2        | 38.00000 | 61000.00 | 0        |\n",
       "| 3        | 40.00000 | 63777.78 | 1        |\n",
       "| 1        | 35.00000 | 58000.00 | 1        |\n",
       "| 2        | 38.77778 | 52000.00 | 0        |\n",
       "| 1        | 48.00000 | 79000.00 | 1        |\n",
       "| 3        | 50.00000 | 83000.00 | 0        |\n",
       "| 1        | 37.00000 | 67000.00 | 1        |\n",
       "\n"
      ],
      "text/plain": [
       "   Country Age      Salary   Purchased\n",
       "1  1       44.00000 72000.00 0        \n",
       "2  2       27.00000 48000.00 1        \n",
       "3  3       30.00000 54000.00 0        \n",
       "4  2       38.00000 61000.00 0        \n",
       "5  3       40.00000 63777.78 1        \n",
       "6  1       35.00000 58000.00 1        \n",
       "7  2       38.77778 52000.00 0        \n",
       "8  1       48.00000 79000.00 1        \n",
       "9  3       50.00000 83000.00 0        \n",
       "10 1       37.00000 67000.00 1        "
      ]
     },
     "metadata": {},
     "output_type": "display_data"
    }
   ],
   "source": [
    "dataset"
   ]
  },
  {
   "cell_type": "markdown",
   "id": "8b4f48a1-98d0-40da-bb5a-d2bc88e2e8e9",
   "metadata": {},
   "source": [
    "# Splitting Data into training and testing"
   ]
  },
  {
   "cell_type": "code",
   "execution_count": 10,
   "id": "3d28987d-6d12-4d4c-a3ad-375f69d7b3bf",
   "metadata": {
    "collapsed": true,
    "jupyter": {
     "outputs_hidden": true
    },
    "tags": []
   },
   "outputs": [
    {
     "name": "stderr",
     "output_type": "stream",
     "text": [
      "Warning message:\n",
      "\"package 'caTools' was built under R version 3.6.3\""
     ]
    }
   ],
   "source": [
    "library('caTools')"
   ]
  },
  {
   "cell_type": "code",
   "execution_count": 11,
   "id": "6a659c5d-6c64-4cf1-a488-b062be31e009",
   "metadata": {},
   "outputs": [],
   "source": [
    "set.seed(123)\n",
    "split = sample.split(dataset$Purchased, SplitRatio=.8)"
   ]
  },
  {
   "cell_type": "code",
   "execution_count": 12,
   "id": "7838adbc-b932-471c-9b33-58c6945bf238",
   "metadata": {},
   "outputs": [
    {
     "data": {
      "text/html": [
       "<ol class=list-inline>\n",
       "\t<li>TRUE</li>\n",
       "\t<li>TRUE</li>\n",
       "\t<li>TRUE</li>\n",
       "\t<li>TRUE</li>\n",
       "\t<li>TRUE</li>\n",
       "\t<li>FALSE</li>\n",
       "\t<li>TRUE</li>\n",
       "\t<li>TRUE</li>\n",
       "\t<li>FALSE</li>\n",
       "\t<li>TRUE</li>\n",
       "</ol>\n"
      ],
      "text/latex": [
       "\\begin{enumerate*}\n",
       "\\item TRUE\n",
       "\\item TRUE\n",
       "\\item TRUE\n",
       "\\item TRUE\n",
       "\\item TRUE\n",
       "\\item FALSE\n",
       "\\item TRUE\n",
       "\\item TRUE\n",
       "\\item FALSE\n",
       "\\item TRUE\n",
       "\\end{enumerate*}\n"
      ],
      "text/markdown": [
       "1. TRUE\n",
       "2. TRUE\n",
       "3. TRUE\n",
       "4. TRUE\n",
       "5. TRUE\n",
       "6. FALSE\n",
       "7. TRUE\n",
       "8. TRUE\n",
       "9. FALSE\n",
       "10. TRUE\n",
       "\n",
       "\n"
      ],
      "text/plain": [
       " [1]  TRUE  TRUE  TRUE  TRUE  TRUE FALSE  TRUE  TRUE FALSE  TRUE"
      ]
     },
     "metadata": {},
     "output_type": "display_data"
    }
   ],
   "source": [
    "split"
   ]
  },
  {
   "cell_type": "code",
   "execution_count": 13,
   "id": "34cda571-0528-44c2-a21f-bd5440884a7c",
   "metadata": {},
   "outputs": [],
   "source": [
    "training_set = subset(dataset, split==TRUE)\n",
    "test_set = subset(dataset, split==FALSE)"
   ]
  },
  {
   "cell_type": "code",
   "execution_count": 14,
   "id": "46866452-5067-490b-a94c-c197287170a5",
   "metadata": {},
   "outputs": [
    {
     "data": {
      "text/html": [
       "<table>\n",
       "<thead><tr><th></th><th scope=col>Country</th><th scope=col>Age</th><th scope=col>Salary</th><th scope=col>Purchased</th></tr></thead>\n",
       "<tbody>\n",
       "\t<tr><th scope=row>1</th><td>1       </td><td>44.00000</td><td>72000.00</td><td>0       </td></tr>\n",
       "\t<tr><th scope=row>2</th><td>2       </td><td>27.00000</td><td>48000.00</td><td>1       </td></tr>\n",
       "\t<tr><th scope=row>3</th><td>3       </td><td>30.00000</td><td>54000.00</td><td>0       </td></tr>\n",
       "\t<tr><th scope=row>4</th><td>2       </td><td>38.00000</td><td>61000.00</td><td>0       </td></tr>\n",
       "\t<tr><th scope=row>5</th><td>3       </td><td>40.00000</td><td>63777.78</td><td>1       </td></tr>\n",
       "\t<tr><th scope=row>7</th><td>2       </td><td>38.77778</td><td>52000.00</td><td>0       </td></tr>\n",
       "\t<tr><th scope=row>8</th><td>1       </td><td>48.00000</td><td>79000.00</td><td>1       </td></tr>\n",
       "\t<tr><th scope=row>10</th><td>1       </td><td>37.00000</td><td>67000.00</td><td>1       </td></tr>\n",
       "</tbody>\n",
       "</table>\n"
      ],
      "text/latex": [
       "\\begin{tabular}{r|llll}\n",
       "  & Country & Age & Salary & Purchased\\\\\n",
       "\\hline\n",
       "\t1 & 1        & 44.00000 & 72000.00 & 0       \\\\\n",
       "\t2 & 2        & 27.00000 & 48000.00 & 1       \\\\\n",
       "\t3 & 3        & 30.00000 & 54000.00 & 0       \\\\\n",
       "\t4 & 2        & 38.00000 & 61000.00 & 0       \\\\\n",
       "\t5 & 3        & 40.00000 & 63777.78 & 1       \\\\\n",
       "\t7 & 2        & 38.77778 & 52000.00 & 0       \\\\\n",
       "\t8 & 1        & 48.00000 & 79000.00 & 1       \\\\\n",
       "\t10 & 1        & 37.00000 & 67000.00 & 1       \\\\\n",
       "\\end{tabular}\n"
      ],
      "text/markdown": [
       "\n",
       "| <!--/--> | Country | Age | Salary | Purchased |\n",
       "|---|---|---|---|---|\n",
       "| 1 | 1        | 44.00000 | 72000.00 | 0        |\n",
       "| 2 | 2        | 27.00000 | 48000.00 | 1        |\n",
       "| 3 | 3        | 30.00000 | 54000.00 | 0        |\n",
       "| 4 | 2        | 38.00000 | 61000.00 | 0        |\n",
       "| 5 | 3        | 40.00000 | 63777.78 | 1        |\n",
       "| 7 | 2        | 38.77778 | 52000.00 | 0        |\n",
       "| 8 | 1        | 48.00000 | 79000.00 | 1        |\n",
       "| 10 | 1        | 37.00000 | 67000.00 | 1        |\n",
       "\n"
      ],
      "text/plain": [
       "   Country Age      Salary   Purchased\n",
       "1  1       44.00000 72000.00 0        \n",
       "2  2       27.00000 48000.00 1        \n",
       "3  3       30.00000 54000.00 0        \n",
       "4  2       38.00000 61000.00 0        \n",
       "5  3       40.00000 63777.78 1        \n",
       "7  2       38.77778 52000.00 0        \n",
       "8  1       48.00000 79000.00 1        \n",
       "10 1       37.00000 67000.00 1        "
      ]
     },
     "metadata": {},
     "output_type": "display_data"
    }
   ],
   "source": [
    "training_set"
   ]
  },
  {
   "cell_type": "code",
   "execution_count": 15,
   "id": "eb8b4260-e808-4a03-a085-3c1edc0e1a0a",
   "metadata": {},
   "outputs": [
    {
     "data": {
      "text/html": [
       "<table>\n",
       "<thead><tr><th></th><th scope=col>Country</th><th scope=col>Age</th><th scope=col>Salary</th><th scope=col>Purchased</th></tr></thead>\n",
       "<tbody>\n",
       "\t<tr><th scope=row>6</th><td>1    </td><td>35   </td><td>58000</td><td>1    </td></tr>\n",
       "\t<tr><th scope=row>9</th><td>3    </td><td>50   </td><td>83000</td><td>0    </td></tr>\n",
       "</tbody>\n",
       "</table>\n"
      ],
      "text/latex": [
       "\\begin{tabular}{r|llll}\n",
       "  & Country & Age & Salary & Purchased\\\\\n",
       "\\hline\n",
       "\t6 & 1     & 35    & 58000 & 1    \\\\\n",
       "\t9 & 3     & 50    & 83000 & 0    \\\\\n",
       "\\end{tabular}\n"
      ],
      "text/markdown": [
       "\n",
       "| <!--/--> | Country | Age | Salary | Purchased |\n",
       "|---|---|---|---|---|\n",
       "| 6 | 1     | 35    | 58000 | 1     |\n",
       "| 9 | 3     | 50    | 83000 | 0     |\n",
       "\n"
      ],
      "text/plain": [
       "  Country Age Salary Purchased\n",
       "6 1       35  58000  1        \n",
       "9 3       50  83000  0        "
      ]
     },
     "metadata": {},
     "output_type": "display_data"
    }
   ],
   "source": [
    "test_set"
   ]
  },
  {
   "cell_type": "markdown",
   "id": "adc989c0-205b-47bf-9b27-69c3c265a6b8",
   "metadata": {},
   "source": [
    "# Feature Scaling"
   ]
  },
  {
   "cell_type": "markdown",
   "id": "a2ee3ac4-3a54-4c52-9217-979d606bb02b",
   "metadata": {},
   "source": [
    "We place all variables on the same scale so one won't \"dominate\" over some other. e.g.:\n",
    "## Standardisation\n",
    "$$x_{stand}=\\frac{x-mean(x)}{standard\\ deviation (x)}$$\n",
    "## Normalisation\n",
    "$$x_{norm}=\\frac{x-min(x)}{max(x)-min(x)}$$"
   ]
  },
  {
   "cell_type": "code",
   "execution_count": 16,
   "id": "ede161b4-e9d0-46ba-8cac-3cf988d2228c",
   "metadata": {},
   "outputs": [],
   "source": [
    "# This gives out an error because first and last columns\n",
    "# aren't numeric. They're factors.\n",
    "\n",
    "# training_set = scale(training_set)"
   ]
  },
  {
   "cell_type": "code",
   "execution_count": 17,
   "id": "e2a21596-71bc-4efe-8a55-997be43fbfc2",
   "metadata": {},
   "outputs": [
    {
     "data": {
      "text/html": [
       "<table>\n",
       "<thead><tr><th></th><th scope=col>Age</th><th scope=col>Salary</th></tr></thead>\n",
       "<tbody>\n",
       "\t<tr><th scope=row>1</th><td>44.00000</td><td>72000.00</td></tr>\n",
       "\t<tr><th scope=row>2</th><td>27.00000</td><td>48000.00</td></tr>\n",
       "\t<tr><th scope=row>3</th><td>30.00000</td><td>54000.00</td></tr>\n",
       "\t<tr><th scope=row>4</th><td>38.00000</td><td>61000.00</td></tr>\n",
       "\t<tr><th scope=row>5</th><td>40.00000</td><td>63777.78</td></tr>\n",
       "\t<tr><th scope=row>7</th><td>38.77778</td><td>52000.00</td></tr>\n",
       "\t<tr><th scope=row>8</th><td>48.00000</td><td>79000.00</td></tr>\n",
       "\t<tr><th scope=row>10</th><td>37.00000</td><td>67000.00</td></tr>\n",
       "</tbody>\n",
       "</table>\n"
      ],
      "text/latex": [
       "\\begin{tabular}{r|ll}\n",
       "  & Age & Salary\\\\\n",
       "\\hline\n",
       "\t1 & 44.00000 & 72000.00\\\\\n",
       "\t2 & 27.00000 & 48000.00\\\\\n",
       "\t3 & 30.00000 & 54000.00\\\\\n",
       "\t4 & 38.00000 & 61000.00\\\\\n",
       "\t5 & 40.00000 & 63777.78\\\\\n",
       "\t7 & 38.77778 & 52000.00\\\\\n",
       "\t8 & 48.00000 & 79000.00\\\\\n",
       "\t10 & 37.00000 & 67000.00\\\\\n",
       "\\end{tabular}\n"
      ],
      "text/markdown": [
       "\n",
       "| <!--/--> | Age | Salary |\n",
       "|---|---|---|\n",
       "| 1 | 44.00000 | 72000.00 |\n",
       "| 2 | 27.00000 | 48000.00 |\n",
       "| 3 | 30.00000 | 54000.00 |\n",
       "| 4 | 38.00000 | 61000.00 |\n",
       "| 5 | 40.00000 | 63777.78 |\n",
       "| 7 | 38.77778 | 52000.00 |\n",
       "| 8 | 48.00000 | 79000.00 |\n",
       "| 10 | 37.00000 | 67000.00 |\n",
       "\n"
      ],
      "text/plain": [
       "   Age      Salary  \n",
       "1  44.00000 72000.00\n",
       "2  27.00000 48000.00\n",
       "3  30.00000 54000.00\n",
       "4  38.00000 61000.00\n",
       "5  40.00000 63777.78\n",
       "7  38.77778 52000.00\n",
       "8  48.00000 79000.00\n",
       "10 37.00000 67000.00"
      ]
     },
     "metadata": {},
     "output_type": "display_data"
    }
   ],
   "source": [
    "training_set[, 2:3]"
   ]
  },
  {
   "cell_type": "code",
   "execution_count": 18,
   "id": "bab653ef-2d9b-46e3-b391-3a8f9d3efca6",
   "metadata": {},
   "outputs": [],
   "source": [
    "training_set[, 2:3] = scale(training_set[, 2:3])"
   ]
  },
  {
   "cell_type": "code",
   "execution_count": 19,
   "id": "ab23e60c-c213-48cf-b153-207c46fea73e",
   "metadata": {},
   "outputs": [
    {
     "data": {
      "text/html": [
       "<table>\n",
       "<thead><tr><th></th><th scope=col>Country</th><th scope=col>Age</th><th scope=col>Salary</th><th scope=col>Purchased</th></tr></thead>\n",
       "<tbody>\n",
       "\t<tr><th scope=row>1</th><td>1          </td><td> 0.90101716</td><td> 0.9392746 </td><td>0          </td></tr>\n",
       "\t<tr><th scope=row>2</th><td>2          </td><td>-1.58847494</td><td>-1.3371160 </td><td>1          </td></tr>\n",
       "\t<tr><th scope=row>3</th><td>3          </td><td>-1.14915281</td><td>-0.7680183 </td><td>0          </td></tr>\n",
       "\t<tr><th scope=row>4</th><td>2          </td><td> 0.02237289</td><td>-0.1040711 </td><td>0          </td></tr>\n",
       "\t<tr><th scope=row>5</th><td>3          </td><td> 0.31525431</td><td> 0.1594000 </td><td>1          </td></tr>\n",
       "\t<tr><th scope=row>7</th><td>2          </td><td> 0.13627122</td><td>-0.9577176 </td><td>0          </td></tr>\n",
       "\t<tr><th scope=row>8</th><td>1          </td><td> 1.48678000</td><td> 1.6032218 </td><td>1          </td></tr>\n",
       "\t<tr><th scope=row>10</th><td>1          </td><td>-0.12406783</td><td> 0.4650265 </td><td>1          </td></tr>\n",
       "</tbody>\n",
       "</table>\n"
      ],
      "text/latex": [
       "\\begin{tabular}{r|llll}\n",
       "  & Country & Age & Salary & Purchased\\\\\n",
       "\\hline\n",
       "\t1 & 1           &  0.90101716 &  0.9392746  & 0          \\\\\n",
       "\t2 & 2           & -1.58847494 & -1.3371160  & 1          \\\\\n",
       "\t3 & 3           & -1.14915281 & -0.7680183  & 0          \\\\\n",
       "\t4 & 2           &  0.02237289 & -0.1040711  & 0          \\\\\n",
       "\t5 & 3           &  0.31525431 &  0.1594000  & 1          \\\\\n",
       "\t7 & 2           &  0.13627122 & -0.9577176  & 0          \\\\\n",
       "\t8 & 1           &  1.48678000 &  1.6032218  & 1          \\\\\n",
       "\t10 & 1           & -0.12406783 &  0.4650265  & 1          \\\\\n",
       "\\end{tabular}\n"
      ],
      "text/markdown": [
       "\n",
       "| <!--/--> | Country | Age | Salary | Purchased |\n",
       "|---|---|---|---|---|\n",
       "| 1 | 1           |  0.90101716 |  0.9392746  | 0           |\n",
       "| 2 | 2           | -1.58847494 | -1.3371160  | 1           |\n",
       "| 3 | 3           | -1.14915281 | -0.7680183  | 0           |\n",
       "| 4 | 2           |  0.02237289 | -0.1040711  | 0           |\n",
       "| 5 | 3           |  0.31525431 |  0.1594000  | 1           |\n",
       "| 7 | 2           |  0.13627122 | -0.9577176  | 0           |\n",
       "| 8 | 1           |  1.48678000 |  1.6032218  | 1           |\n",
       "| 10 | 1           | -0.12406783 |  0.4650265  | 1           |\n",
       "\n"
      ],
      "text/plain": [
       "   Country Age         Salary     Purchased\n",
       "1  1        0.90101716  0.9392746 0        \n",
       "2  2       -1.58847494 -1.3371160 1        \n",
       "3  3       -1.14915281 -0.7680183 0        \n",
       "4  2        0.02237289 -0.1040711 0        \n",
       "5  3        0.31525431  0.1594000 1        \n",
       "7  2        0.13627122 -0.9577176 0        \n",
       "8  1        1.48678000  1.6032218 1        \n",
       "10 1       -0.12406783  0.4650265 1        "
      ]
     },
     "metadata": {},
     "output_type": "display_data"
    }
   ],
   "source": [
    "training_set"
   ]
  },
  {
   "cell_type": "code",
   "execution_count": 20,
   "id": "3b9933ef-67c2-425f-82c8-f2ba149bb08c",
   "metadata": {},
   "outputs": [],
   "source": [
    "test_set[, 2:3] = scale(test_set[, 2:3])"
   ]
  },
  {
   "cell_type": "code",
   "execution_count": 21,
   "id": "4d0191bc-b827-405c-ab5d-037a5added5b",
   "metadata": {},
   "outputs": [
    {
     "data": {
      "text/html": [
       "<table>\n",
       "<thead><tr><th></th><th scope=col>Country</th><th scope=col>Age</th><th scope=col>Salary</th><th scope=col>Purchased</th></tr></thead>\n",
       "<tbody>\n",
       "\t<tr><th scope=row>6</th><td>1         </td><td>-0.7071068</td><td>-0.7071068</td><td>1         </td></tr>\n",
       "\t<tr><th scope=row>9</th><td>3         </td><td> 0.7071068</td><td> 0.7071068</td><td>0         </td></tr>\n",
       "</tbody>\n",
       "</table>\n"
      ],
      "text/latex": [
       "\\begin{tabular}{r|llll}\n",
       "  & Country & Age & Salary & Purchased\\\\\n",
       "\\hline\n",
       "\t6 & 1          & -0.7071068 & -0.7071068 & 1         \\\\\n",
       "\t9 & 3          &  0.7071068 &  0.7071068 & 0         \\\\\n",
       "\\end{tabular}\n"
      ],
      "text/markdown": [
       "\n",
       "| <!--/--> | Country | Age | Salary | Purchased |\n",
       "|---|---|---|---|---|\n",
       "| 6 | 1          | -0.7071068 | -0.7071068 | 1          |\n",
       "| 9 | 3          |  0.7071068 |  0.7071068 | 0          |\n",
       "\n"
      ],
      "text/plain": [
       "  Country Age        Salary     Purchased\n",
       "6 1       -0.7071068 -0.7071068 1        \n",
       "9 3        0.7071068  0.7071068 0        "
      ]
     },
     "metadata": {},
     "output_type": "display_data"
    }
   ],
   "source": [
    "test_set"
   ]
  },
  {
   "cell_type": "markdown",
   "id": "d6ce575b-f0a8-4990-8bbb-cc1b4d55edb0",
   "metadata": {},
   "source": [
    "# Comparing preprocessing prior to feature scaling"
   ]
  },
  {
   "cell_type": "code",
   "execution_count": 22,
   "id": "bfa93d4f-494c-4128-823c-c713379b050f",
   "metadata": {},
   "outputs": [
    {
     "data": {
      "text/html": [
       "<table>\n",
       "<thead><tr><th scope=col>Country</th><th scope=col>Age</th><th scope=col>Salary</th><th scope=col>Purchased</th></tr></thead>\n",
       "<tbody>\n",
       "\t<tr><td>1       </td><td>44.00000</td><td>72000.00</td><td>0       </td></tr>\n",
       "\t<tr><td>2       </td><td>27.00000</td><td>48000.00</td><td>1       </td></tr>\n",
       "\t<tr><td>3       </td><td>30.00000</td><td>54000.00</td><td>0       </td></tr>\n",
       "\t<tr><td>2       </td><td>38.00000</td><td>61000.00</td><td>0       </td></tr>\n",
       "\t<tr><td>3       </td><td>40.00000</td><td>63777.78</td><td>1       </td></tr>\n",
       "\t<tr><td>1       </td><td>35.00000</td><td>58000.00</td><td>1       </td></tr>\n",
       "\t<tr><td>2       </td><td>38.77778</td><td>52000.00</td><td>0       </td></tr>\n",
       "\t<tr><td>1       </td><td>48.00000</td><td>79000.00</td><td>1       </td></tr>\n",
       "\t<tr><td>3       </td><td>50.00000</td><td>83000.00</td><td>0       </td></tr>\n",
       "\t<tr><td>1       </td><td>37.00000</td><td>67000.00</td><td>1       </td></tr>\n",
       "</tbody>\n",
       "</table>\n"
      ],
      "text/latex": [
       "\\begin{tabular}{r|llll}\n",
       " Country & Age & Salary & Purchased\\\\\n",
       "\\hline\n",
       "\t 1        & 44.00000 & 72000.00 & 0       \\\\\n",
       "\t 2        & 27.00000 & 48000.00 & 1       \\\\\n",
       "\t 3        & 30.00000 & 54000.00 & 0       \\\\\n",
       "\t 2        & 38.00000 & 61000.00 & 0       \\\\\n",
       "\t 3        & 40.00000 & 63777.78 & 1       \\\\\n",
       "\t 1        & 35.00000 & 58000.00 & 1       \\\\\n",
       "\t 2        & 38.77778 & 52000.00 & 0       \\\\\n",
       "\t 1        & 48.00000 & 79000.00 & 1       \\\\\n",
       "\t 3        & 50.00000 & 83000.00 & 0       \\\\\n",
       "\t 1        & 37.00000 & 67000.00 & 1       \\\\\n",
       "\\end{tabular}\n"
      ],
      "text/markdown": [
       "\n",
       "| Country | Age | Salary | Purchased |\n",
       "|---|---|---|---|\n",
       "| 1        | 44.00000 | 72000.00 | 0        |\n",
       "| 2        | 27.00000 | 48000.00 | 1        |\n",
       "| 3        | 30.00000 | 54000.00 | 0        |\n",
       "| 2        | 38.00000 | 61000.00 | 0        |\n",
       "| 3        | 40.00000 | 63777.78 | 1        |\n",
       "| 1        | 35.00000 | 58000.00 | 1        |\n",
       "| 2        | 38.77778 | 52000.00 | 0        |\n",
       "| 1        | 48.00000 | 79000.00 | 1        |\n",
       "| 3        | 50.00000 | 83000.00 | 0        |\n",
       "| 1        | 37.00000 | 67000.00 | 1        |\n",
       "\n"
      ],
      "text/plain": [
       "   Country Age      Salary   Purchased\n",
       "1  1       44.00000 72000.00 0        \n",
       "2  2       27.00000 48000.00 1        \n",
       "3  3       30.00000 54000.00 0        \n",
       "4  2       38.00000 61000.00 0        \n",
       "5  3       40.00000 63777.78 1        \n",
       "6  1       35.00000 58000.00 1        \n",
       "7  2       38.77778 52000.00 0        \n",
       "8  1       48.00000 79000.00 1        \n",
       "9  3       50.00000 83000.00 0        \n",
       "10 1       37.00000 67000.00 1        "
      ]
     },
     "metadata": {},
     "output_type": "display_data"
    }
   ],
   "source": [
    "dataset = read.csv(\"Data.csv\")\n",
    "\n",
    "dataset$Age=ifelse(\n",
    "    is.na(dataset$Age),\n",
    "    ave(dataset$Age, FUN = function(x) mean(x, na.rm=TRUE)),\n",
    "    dataset$Age\n",
    ")\n",
    "dataset$Salary = ifelse(\n",
    "    is.na(dataset$Salary),\n",
    "    ave(dataset$Salary, FUN = function(x) mean(x, na.rm=TRUE)),\n",
    "    dataset$Salary\n",
    ")\n",
    "\n",
    "dataset$Country = factor(\n",
    "    dataset$Country,\n",
    "    levels = c(\"France\",\"Spain\",\"Germany\"),\n",
    "    labels = c(1, 2, 3)\n",
    ")\n",
    "dataset$Purchased = factor(\n",
    "    dataset$Purchased,\n",
    "    levels = c(\"No\",\"Yes\"),\n",
    "    labels = c(0, 1)\n",
    ") \n",
    "dataset"
   ]
  },
  {
   "cell_type": "code",
   "execution_count": 23,
   "id": "13f4c0c0-41f1-4cd0-8052-983cb8243f17",
   "metadata": {},
   "outputs": [],
   "source": [
    "dataset[, 2:3] = scale(dataset[, 2:3])\n",
    "set.seed(123)\n",
    "split = sample.split(dataset$Purchased, SplitRatio=.8)\n",
    "training_set = subset(dataset, split==TRUE)\n",
    "test_set = subset(dataset, split==FALSE)"
   ]
  },
  {
   "cell_type": "code",
   "execution_count": 24,
   "id": "d4647997-4256-46af-b799-5290d57fd40d",
   "metadata": {},
   "outputs": [
    {
     "data": {
      "text/html": [
       "<table>\n",
       "<thead><tr><th></th><th scope=col>Country</th><th scope=col>Age</th><th scope=col>Salary</th><th scope=col>Purchased</th></tr></thead>\n",
       "<tbody>\n",
       "\t<tr><th scope=row>1</th><td>1         </td><td> 0.7199314</td><td> 0.7110128</td><td>0         </td></tr>\n",
       "\t<tr><th scope=row>2</th><td>2         </td><td>-1.6236751</td><td>-1.3643758</td><td>1         </td></tr>\n",
       "\t<tr><th scope=row>3</th><td>3         </td><td>-1.2100975</td><td>-0.8455287</td><td>0         </td></tr>\n",
       "\t<tr><th scope=row>4</th><td>2         </td><td>-0.1072238</td><td>-0.2402070</td><td>0         </td></tr>\n",
       "\t<tr><th scope=row>5</th><td>3         </td><td> 0.1684946</td><td> 0.0000000</td><td>1         </td></tr>\n",
       "\t<tr><th scope=row>7</th><td>2         </td><td> 0.0000000</td><td>-1.0184777</td><td>0         </td></tr>\n",
       "\t<tr><th scope=row>8</th><td>1         </td><td> 1.2713683</td><td> 1.3163344</td><td>1         </td></tr>\n",
       "\t<tr><th scope=row>10</th><td>1         </td><td>-0.2450830</td><td> 0.2786401</td><td>1         </td></tr>\n",
       "</tbody>\n",
       "</table>\n"
      ],
      "text/latex": [
       "\\begin{tabular}{r|llll}\n",
       "  & Country & Age & Salary & Purchased\\\\\n",
       "\\hline\n",
       "\t1 & 1          &  0.7199314 &  0.7110128 & 0         \\\\\n",
       "\t2 & 2          & -1.6236751 & -1.3643758 & 1         \\\\\n",
       "\t3 & 3          & -1.2100975 & -0.8455287 & 0         \\\\\n",
       "\t4 & 2          & -0.1072238 & -0.2402070 & 0         \\\\\n",
       "\t5 & 3          &  0.1684946 &  0.0000000 & 1         \\\\\n",
       "\t7 & 2          &  0.0000000 & -1.0184777 & 0         \\\\\n",
       "\t8 & 1          &  1.2713683 &  1.3163344 & 1         \\\\\n",
       "\t10 & 1          & -0.2450830 &  0.2786401 & 1         \\\\\n",
       "\\end{tabular}\n"
      ],
      "text/markdown": [
       "\n",
       "| <!--/--> | Country | Age | Salary | Purchased |\n",
       "|---|---|---|---|---|\n",
       "| 1 | 1          |  0.7199314 |  0.7110128 | 0          |\n",
       "| 2 | 2          | -1.6236751 | -1.3643758 | 1          |\n",
       "| 3 | 3          | -1.2100975 | -0.8455287 | 0          |\n",
       "| 4 | 2          | -0.1072238 | -0.2402070 | 0          |\n",
       "| 5 | 3          |  0.1684946 |  0.0000000 | 1          |\n",
       "| 7 | 2          |  0.0000000 | -1.0184777 | 0          |\n",
       "| 8 | 1          |  1.2713683 |  1.3163344 | 1          |\n",
       "| 10 | 1          | -0.2450830 |  0.2786401 | 1          |\n",
       "\n"
      ],
      "text/plain": [
       "   Country Age        Salary     Purchased\n",
       "1  1        0.7199314  0.7110128 0        \n",
       "2  2       -1.6236751 -1.3643758 1        \n",
       "3  3       -1.2100975 -0.8455287 0        \n",
       "4  2       -0.1072238 -0.2402070 0        \n",
       "5  3        0.1684946  0.0000000 1        \n",
       "7  2        0.0000000 -1.0184777 0        \n",
       "8  1        1.2713683  1.3163344 1        \n",
       "10 1       -0.2450830  0.2786401 1        "
      ]
     },
     "metadata": {},
     "output_type": "display_data"
    }
   ],
   "source": [
    "training_set"
   ]
  },
  {
   "cell_type": "code",
   "execution_count": 25,
   "id": "6452c75b-3469-4313-9477-5644124a2a94",
   "metadata": {},
   "outputs": [
    {
     "data": {
      "text/html": [
       "<table>\n",
       "<thead><tr><th></th><th scope=col>Country</th><th scope=col>Age</th><th scope=col>Salary</th><th scope=col>Purchased</th></tr></thead>\n",
       "<tbody>\n",
       "\t<tr><th scope=row>6</th><td>1         </td><td>-0.5208015</td><td>-0.4996306</td><td>1         </td></tr>\n",
       "\t<tr><th scope=row>9</th><td>3         </td><td> 1.5470867</td><td> 1.6622325</td><td>0         </td></tr>\n",
       "</tbody>\n",
       "</table>\n"
      ],
      "text/latex": [
       "\\begin{tabular}{r|llll}\n",
       "  & Country & Age & Salary & Purchased\\\\\n",
       "\\hline\n",
       "\t6 & 1          & -0.5208015 & -0.4996306 & 1         \\\\\n",
       "\t9 & 3          &  1.5470867 &  1.6622325 & 0         \\\\\n",
       "\\end{tabular}\n"
      ],
      "text/markdown": [
       "\n",
       "| <!--/--> | Country | Age | Salary | Purchased |\n",
       "|---|---|---|---|---|\n",
       "| 6 | 1          | -0.5208015 | -0.4996306 | 1          |\n",
       "| 9 | 3          |  1.5470867 |  1.6622325 | 0          |\n",
       "\n"
      ],
      "text/plain": [
       "  Country Age        Salary     Purchased\n",
       "6 1       -0.5208015 -0.4996306 1        \n",
       "9 3        1.5470867  1.6622325 0        "
      ]
     },
     "metadata": {},
     "output_type": "display_data"
    }
   ],
   "source": [
    "test_set"
   ]
  },
  {
   "cell_type": "markdown",
   "id": "5c2bb7ab-e09b-4cad-95f6-f153f128fbad",
   "metadata": {},
   "source": [
    "Both training and test set ends up with totally different values depending on when you scale them.\n",
    "\n",
    "I guess this shouldn't matter too much on a large enough dataset (as mean and std should tend to the real populational ones), but it surely makes a lot of difference in this small one."
   ]
  }
 ],
 "metadata": {
  "kernelspec": {
   "display_name": "R",
   "language": "R",
   "name": "ir"
  },
  "language_info": {
   "codemirror_mode": "r",
   "file_extension": ".r",
   "mimetype": "text/x-r-source",
   "name": "R",
   "pygments_lexer": "r",
   "version": "3.6.1"
  }
 },
 "nbformat": 4,
 "nbformat_minor": 5
}
